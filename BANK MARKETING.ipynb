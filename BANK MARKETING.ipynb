{
 "cells": [
  {
   "cell_type": "markdown",
   "id": "ce034489",
   "metadata": {},
   "source": [
    "# BANK MARKETING\n",
    "### Abstract:\n",
    "The data is related with direct marketing campaigns (phone calls) of a Portuguese banking institution. The classification goal is to predict if the client will subscribe a term deposit (variable y).\n",
    "### Output variable (desired target):\n",
    "y - has the client subscribed a term deposit? (binary: 'yes', 'no')\n",
    "### Analysis Steps:\n",
    "Atribute information Analysis.\n",
    "\n",
    "Machine Learning (Logistic Regression, KNN, SVM, Decision Tree,\n",
    "Random Forest, Naive Bayes)\n",
    "\n",
    "Deep Learning (ANN)\n",
    "### Source:\n",
    "Dataset from : http://archive.ics.uci.edu/ml/datasets/Bank+Marketing#"
   ]
  },
  {
   "cell_type": "markdown",
   "id": "916b038d",
   "metadata": {},
   "source": [
    "## 1 Import Data"
   ]
  },
  {
   "cell_type": "code",
   "execution_count": 1,
   "id": "e92b83ac",
   "metadata": {},
   "outputs": [],
   "source": [
    "import pandas as pd\n",
    "import numpy as np\n",
    "import seaborn as sns\n",
    "import matplotlib.pyplot as plt"
   ]
  },
  {
   "cell_type": "code",
   "execution_count": 2,
   "id": "2d47fbae",
   "metadata": {},
   "outputs": [],
   "source": [
    "from sklearn import metrics\n",
    "from sklearn.metrics import classification_report\n",
    "from sklearn.metrics import confusion_matrix\n",
    "sns.set()\n",
    "%matplotlib inline"
   ]
  },
  {
   "cell_type": "code",
   "execution_count": 3,
   "id": "928c913b",
   "metadata": {},
   "outputs": [
    {
     "data": {
      "text/html": [
       "<div>\n",
       "<style scoped>\n",
       "    .dataframe tbody tr th:only-of-type {\n",
       "        vertical-align: middle;\n",
       "    }\n",
       "\n",
       "    .dataframe tbody tr th {\n",
       "        vertical-align: top;\n",
       "    }\n",
       "\n",
       "    .dataframe thead th {\n",
       "        text-align: right;\n",
       "    }\n",
       "</style>\n",
       "<table border=\"1\" class=\"dataframe\">\n",
       "  <thead>\n",
       "    <tr style=\"text-align: right;\">\n",
       "      <th></th>\n",
       "      <th>age</th>\n",
       "      <th>job</th>\n",
       "      <th>marital</th>\n",
       "      <th>education</th>\n",
       "      <th>default</th>\n",
       "      <th>housing</th>\n",
       "      <th>loan</th>\n",
       "      <th>contact</th>\n",
       "      <th>month</th>\n",
       "      <th>day_of_week</th>\n",
       "      <th>...</th>\n",
       "      <th>campaign</th>\n",
       "      <th>pdays</th>\n",
       "      <th>previous</th>\n",
       "      <th>poutcome</th>\n",
       "      <th>emp.var.rate</th>\n",
       "      <th>cons.price.idx</th>\n",
       "      <th>cons.conf.idx</th>\n",
       "      <th>euribor3m</th>\n",
       "      <th>nr.employed</th>\n",
       "      <th>y</th>\n",
       "    </tr>\n",
       "  </thead>\n",
       "  <tbody>\n",
       "    <tr>\n",
       "      <th>0</th>\n",
       "      <td>56</td>\n",
       "      <td>housemaid</td>\n",
       "      <td>married</td>\n",
       "      <td>basic.4y</td>\n",
       "      <td>no</td>\n",
       "      <td>no</td>\n",
       "      <td>no</td>\n",
       "      <td>telephone</td>\n",
       "      <td>may</td>\n",
       "      <td>mon</td>\n",
       "      <td>...</td>\n",
       "      <td>1</td>\n",
       "      <td>999</td>\n",
       "      <td>0</td>\n",
       "      <td>nonexistent</td>\n",
       "      <td>1.1</td>\n",
       "      <td>93.994</td>\n",
       "      <td>-36.4</td>\n",
       "      <td>4.857</td>\n",
       "      <td>5191.0</td>\n",
       "      <td>no</td>\n",
       "    </tr>\n",
       "    <tr>\n",
       "      <th>1</th>\n",
       "      <td>57</td>\n",
       "      <td>services</td>\n",
       "      <td>married</td>\n",
       "      <td>high.school</td>\n",
       "      <td>unknown</td>\n",
       "      <td>no</td>\n",
       "      <td>no</td>\n",
       "      <td>telephone</td>\n",
       "      <td>may</td>\n",
       "      <td>mon</td>\n",
       "      <td>...</td>\n",
       "      <td>1</td>\n",
       "      <td>999</td>\n",
       "      <td>0</td>\n",
       "      <td>nonexistent</td>\n",
       "      <td>1.1</td>\n",
       "      <td>93.994</td>\n",
       "      <td>-36.4</td>\n",
       "      <td>4.857</td>\n",
       "      <td>5191.0</td>\n",
       "      <td>no</td>\n",
       "    </tr>\n",
       "    <tr>\n",
       "      <th>2</th>\n",
       "      <td>37</td>\n",
       "      <td>services</td>\n",
       "      <td>married</td>\n",
       "      <td>high.school</td>\n",
       "      <td>no</td>\n",
       "      <td>yes</td>\n",
       "      <td>no</td>\n",
       "      <td>telephone</td>\n",
       "      <td>may</td>\n",
       "      <td>mon</td>\n",
       "      <td>...</td>\n",
       "      <td>1</td>\n",
       "      <td>999</td>\n",
       "      <td>0</td>\n",
       "      <td>nonexistent</td>\n",
       "      <td>1.1</td>\n",
       "      <td>93.994</td>\n",
       "      <td>-36.4</td>\n",
       "      <td>4.857</td>\n",
       "      <td>5191.0</td>\n",
       "      <td>no</td>\n",
       "    </tr>\n",
       "    <tr>\n",
       "      <th>3</th>\n",
       "      <td>40</td>\n",
       "      <td>admin.</td>\n",
       "      <td>married</td>\n",
       "      <td>basic.6y</td>\n",
       "      <td>no</td>\n",
       "      <td>no</td>\n",
       "      <td>no</td>\n",
       "      <td>telephone</td>\n",
       "      <td>may</td>\n",
       "      <td>mon</td>\n",
       "      <td>...</td>\n",
       "      <td>1</td>\n",
       "      <td>999</td>\n",
       "      <td>0</td>\n",
       "      <td>nonexistent</td>\n",
       "      <td>1.1</td>\n",
       "      <td>93.994</td>\n",
       "      <td>-36.4</td>\n",
       "      <td>4.857</td>\n",
       "      <td>5191.0</td>\n",
       "      <td>no</td>\n",
       "    </tr>\n",
       "    <tr>\n",
       "      <th>4</th>\n",
       "      <td>56</td>\n",
       "      <td>services</td>\n",
       "      <td>married</td>\n",
       "      <td>high.school</td>\n",
       "      <td>no</td>\n",
       "      <td>no</td>\n",
       "      <td>yes</td>\n",
       "      <td>telephone</td>\n",
       "      <td>may</td>\n",
       "      <td>mon</td>\n",
       "      <td>...</td>\n",
       "      <td>1</td>\n",
       "      <td>999</td>\n",
       "      <td>0</td>\n",
       "      <td>nonexistent</td>\n",
       "      <td>1.1</td>\n",
       "      <td>93.994</td>\n",
       "      <td>-36.4</td>\n",
       "      <td>4.857</td>\n",
       "      <td>5191.0</td>\n",
       "      <td>no</td>\n",
       "    </tr>\n",
       "  </tbody>\n",
       "</table>\n",
       "<p>5 rows × 21 columns</p>\n",
       "</div>"
      ],
      "text/plain": [
       "   age        job  marital    education  default housing loan    contact  \\\n",
       "0   56  housemaid  married     basic.4y       no      no   no  telephone   \n",
       "1   57   services  married  high.school  unknown      no   no  telephone   \n",
       "2   37   services  married  high.school       no     yes   no  telephone   \n",
       "3   40     admin.  married     basic.6y       no      no   no  telephone   \n",
       "4   56   services  married  high.school       no      no  yes  telephone   \n",
       "\n",
       "  month day_of_week  ...  campaign  pdays  previous     poutcome emp.var.rate  \\\n",
       "0   may         mon  ...         1    999         0  nonexistent          1.1   \n",
       "1   may         mon  ...         1    999         0  nonexistent          1.1   \n",
       "2   may         mon  ...         1    999         0  nonexistent          1.1   \n",
       "3   may         mon  ...         1    999         0  nonexistent          1.1   \n",
       "4   may         mon  ...         1    999         0  nonexistent          1.1   \n",
       "\n",
       "   cons.price.idx  cons.conf.idx  euribor3m  nr.employed   y  \n",
       "0          93.994          -36.4      4.857       5191.0  no  \n",
       "1          93.994          -36.4      4.857       5191.0  no  \n",
       "2          93.994          -36.4      4.857       5191.0  no  \n",
       "3          93.994          -36.4      4.857       5191.0  no  \n",
       "4          93.994          -36.4      4.857       5191.0  no  \n",
       "\n",
       "[5 rows x 21 columns]"
      ]
     },
     "execution_count": 3,
     "metadata": {},
     "output_type": "execute_result"
    }
   ],
   "source": [
    "df = pd.read_csv(\"./Bank Marketing/bank-additional-full.csv\", sep = ';')\n",
    "df.head()"
   ]
  },
  {
   "cell_type": "code",
   "execution_count": 4,
   "id": "29f952c1",
   "metadata": {},
   "outputs": [
    {
     "data": {
      "text/html": [
       "<style type=\"text/css\">\n",
       "#T_7f2b4_row0_col0, #T_7f2b4_row0_col1, #T_7f2b4_row0_col2, #T_7f2b4_row0_col3, #T_7f2b4_row0_col4, #T_7f2b4_row0_col5, #T_7f2b4_row0_col6, #T_7f2b4_row0_col7, #T_7f2b4_row0_col8, #T_7f2b4_row0_col9 {\n",
       "  background-color: #023858;\n",
       "  color: #f1f1f1;\n",
       "}\n",
       "#T_7f2b4_row1_col0, #T_7f2b4_row1_col2, #T_7f2b4_row1_col4, #T_7f2b4_row1_col5, #T_7f2b4_row1_col6, #T_7f2b4_row1_col7, #T_7f2b4_row1_col8, #T_7f2b4_row2_col0, #T_7f2b4_row2_col2, #T_7f2b4_row2_col4, #T_7f2b4_row2_col5, #T_7f2b4_row2_col6, #T_7f2b4_row2_col7, #T_7f2b4_row2_col8, #T_7f2b4_row2_col9, #T_7f2b4_row3_col0, #T_7f2b4_row3_col1, #T_7f2b4_row3_col2, #T_7f2b4_row3_col3, #T_7f2b4_row3_col4, #T_7f2b4_row3_col5, #T_7f2b4_row3_col6, #T_7f2b4_row3_col7, #T_7f2b4_row3_col8, #T_7f2b4_row4_col0, #T_7f2b4_row4_col1, #T_7f2b4_row4_col2, #T_7f2b4_row4_col4, #T_7f2b4_row4_col5, #T_7f2b4_row4_col6, #T_7f2b4_row4_col7, #T_7f2b4_row4_col8, #T_7f2b4_row5_col0, #T_7f2b4_row5_col2, #T_7f2b4_row5_col4, #T_7f2b4_row5_col5, #T_7f2b4_row5_col6, #T_7f2b4_row5_col7, #T_7f2b4_row5_col8, #T_7f2b4_row6_col0, #T_7f2b4_row6_col2, #T_7f2b4_row6_col4, #T_7f2b4_row6_col5, #T_7f2b4_row6_col6, #T_7f2b4_row6_col7, #T_7f2b4_row6_col8, #T_7f2b4_row7_col0, #T_7f2b4_row7_col2, #T_7f2b4_row7_col4, #T_7f2b4_row7_col5, #T_7f2b4_row7_col6, #T_7f2b4_row7_col7, #T_7f2b4_row7_col8 {\n",
       "  background-color: #fff7fb;\n",
       "  color: #000000;\n",
       "}\n",
       "#T_7f2b4_row1_col1, #T_7f2b4_row2_col1, #T_7f2b4_row2_col3, #T_7f2b4_row5_col1, #T_7f2b4_row6_col1 {\n",
       "  background-color: #fef6fb;\n",
       "  color: #000000;\n",
       "}\n",
       "#T_7f2b4_row1_col3 {\n",
       "  background-color: #fcf4fa;\n",
       "  color: #000000;\n",
       "}\n",
       "#T_7f2b4_row1_col9, #T_7f2b4_row4_col9, #T_7f2b4_row5_col9 {\n",
       "  background-color: #ede7f2;\n",
       "  color: #000000;\n",
       "}\n",
       "#T_7f2b4_row3_col9, #T_7f2b4_row7_col1 {\n",
       "  background-color: #ede8f3;\n",
       "  color: #000000;\n",
       "}\n",
       "#T_7f2b4_row4_col3, #T_7f2b4_row5_col3, #T_7f2b4_row6_col3, #T_7f2b4_row7_col3 {\n",
       "  background-color: #fbf4f9;\n",
       "  color: #000000;\n",
       "}\n",
       "#T_7f2b4_row6_col9, #T_7f2b4_row7_col9 {\n",
       "  background-color: #ece7f2;\n",
       "  color: #000000;\n",
       "}\n",
       "</style>\n",
       "<table id=\"T_7f2b4\">\n",
       "  <thead>\n",
       "    <tr>\n",
       "      <th class=\"blank level0\" >&nbsp;</th>\n",
       "      <th id=\"T_7f2b4_level0_col0\" class=\"col_heading level0 col0\" >age</th>\n",
       "      <th id=\"T_7f2b4_level0_col1\" class=\"col_heading level0 col1\" >duration</th>\n",
       "      <th id=\"T_7f2b4_level0_col2\" class=\"col_heading level0 col2\" >campaign</th>\n",
       "      <th id=\"T_7f2b4_level0_col3\" class=\"col_heading level0 col3\" >pdays</th>\n",
       "      <th id=\"T_7f2b4_level0_col4\" class=\"col_heading level0 col4\" >previous</th>\n",
       "      <th id=\"T_7f2b4_level0_col5\" class=\"col_heading level0 col5\" >emp.var.rate</th>\n",
       "      <th id=\"T_7f2b4_level0_col6\" class=\"col_heading level0 col6\" >cons.price.idx</th>\n",
       "      <th id=\"T_7f2b4_level0_col7\" class=\"col_heading level0 col7\" >cons.conf.idx</th>\n",
       "      <th id=\"T_7f2b4_level0_col8\" class=\"col_heading level0 col8\" >euribor3m</th>\n",
       "      <th id=\"T_7f2b4_level0_col9\" class=\"col_heading level0 col9\" >nr.employed</th>\n",
       "    </tr>\n",
       "  </thead>\n",
       "  <tbody>\n",
       "    <tr>\n",
       "      <th id=\"T_7f2b4_level0_row0\" class=\"row_heading level0 row0\" >count</th>\n",
       "      <td id=\"T_7f2b4_row0_col0\" class=\"data row0 col0\" >41188.000000</td>\n",
       "      <td id=\"T_7f2b4_row0_col1\" class=\"data row0 col1\" >41188.000000</td>\n",
       "      <td id=\"T_7f2b4_row0_col2\" class=\"data row0 col2\" >41188.000000</td>\n",
       "      <td id=\"T_7f2b4_row0_col3\" class=\"data row0 col3\" >41188.000000</td>\n",
       "      <td id=\"T_7f2b4_row0_col4\" class=\"data row0 col4\" >41188.000000</td>\n",
       "      <td id=\"T_7f2b4_row0_col5\" class=\"data row0 col5\" >41188.000000</td>\n",
       "      <td id=\"T_7f2b4_row0_col6\" class=\"data row0 col6\" >41188.000000</td>\n",
       "      <td id=\"T_7f2b4_row0_col7\" class=\"data row0 col7\" >41188.000000</td>\n",
       "      <td id=\"T_7f2b4_row0_col8\" class=\"data row0 col8\" >41188.000000</td>\n",
       "      <td id=\"T_7f2b4_row0_col9\" class=\"data row0 col9\" >41188.000000</td>\n",
       "    </tr>\n",
       "    <tr>\n",
       "      <th id=\"T_7f2b4_level0_row1\" class=\"row_heading level0 row1\" >mean</th>\n",
       "      <td id=\"T_7f2b4_row1_col0\" class=\"data row1 col0\" >40.024060</td>\n",
       "      <td id=\"T_7f2b4_row1_col1\" class=\"data row1 col1\" >258.285010</td>\n",
       "      <td id=\"T_7f2b4_row1_col2\" class=\"data row1 col2\" >2.567593</td>\n",
       "      <td id=\"T_7f2b4_row1_col3\" class=\"data row1 col3\" >962.475454</td>\n",
       "      <td id=\"T_7f2b4_row1_col4\" class=\"data row1 col4\" >0.172963</td>\n",
       "      <td id=\"T_7f2b4_row1_col5\" class=\"data row1 col5\" >0.081886</td>\n",
       "      <td id=\"T_7f2b4_row1_col6\" class=\"data row1 col6\" >93.575664</td>\n",
       "      <td id=\"T_7f2b4_row1_col7\" class=\"data row1 col7\" >-40.502600</td>\n",
       "      <td id=\"T_7f2b4_row1_col8\" class=\"data row1 col8\" >3.621291</td>\n",
       "      <td id=\"T_7f2b4_row1_col9\" class=\"data row1 col9\" >5167.035911</td>\n",
       "    </tr>\n",
       "    <tr>\n",
       "      <th id=\"T_7f2b4_level0_row2\" class=\"row_heading level0 row2\" >std</th>\n",
       "      <td id=\"T_7f2b4_row2_col0\" class=\"data row2 col0\" >10.421250</td>\n",
       "      <td id=\"T_7f2b4_row2_col1\" class=\"data row2 col1\" >259.279249</td>\n",
       "      <td id=\"T_7f2b4_row2_col2\" class=\"data row2 col2\" >2.770014</td>\n",
       "      <td id=\"T_7f2b4_row2_col3\" class=\"data row2 col3\" >186.910907</td>\n",
       "      <td id=\"T_7f2b4_row2_col4\" class=\"data row2 col4\" >0.494901</td>\n",
       "      <td id=\"T_7f2b4_row2_col5\" class=\"data row2 col5\" >1.570960</td>\n",
       "      <td id=\"T_7f2b4_row2_col6\" class=\"data row2 col6\" >0.578840</td>\n",
       "      <td id=\"T_7f2b4_row2_col7\" class=\"data row2 col7\" >4.628198</td>\n",
       "      <td id=\"T_7f2b4_row2_col8\" class=\"data row2 col8\" >1.734447</td>\n",
       "      <td id=\"T_7f2b4_row2_col9\" class=\"data row2 col9\" >72.251528</td>\n",
       "    </tr>\n",
       "    <tr>\n",
       "      <th id=\"T_7f2b4_level0_row3\" class=\"row_heading level0 row3\" >min</th>\n",
       "      <td id=\"T_7f2b4_row3_col0\" class=\"data row3 col0\" >17.000000</td>\n",
       "      <td id=\"T_7f2b4_row3_col1\" class=\"data row3 col1\" >0.000000</td>\n",
       "      <td id=\"T_7f2b4_row3_col2\" class=\"data row3 col2\" >1.000000</td>\n",
       "      <td id=\"T_7f2b4_row3_col3\" class=\"data row3 col3\" >0.000000</td>\n",
       "      <td id=\"T_7f2b4_row3_col4\" class=\"data row3 col4\" >0.000000</td>\n",
       "      <td id=\"T_7f2b4_row3_col5\" class=\"data row3 col5\" >-3.400000</td>\n",
       "      <td id=\"T_7f2b4_row3_col6\" class=\"data row3 col6\" >92.201000</td>\n",
       "      <td id=\"T_7f2b4_row3_col7\" class=\"data row3 col7\" >-50.800000</td>\n",
       "      <td id=\"T_7f2b4_row3_col8\" class=\"data row3 col8\" >0.634000</td>\n",
       "      <td id=\"T_7f2b4_row3_col9\" class=\"data row3 col9\" >4963.600000</td>\n",
       "    </tr>\n",
       "    <tr>\n",
       "      <th id=\"T_7f2b4_level0_row4\" class=\"row_heading level0 row4\" >25%</th>\n",
       "      <td id=\"T_7f2b4_row4_col0\" class=\"data row4 col0\" >32.000000</td>\n",
       "      <td id=\"T_7f2b4_row4_col1\" class=\"data row4 col1\" >102.000000</td>\n",
       "      <td id=\"T_7f2b4_row4_col2\" class=\"data row4 col2\" >1.000000</td>\n",
       "      <td id=\"T_7f2b4_row4_col3\" class=\"data row4 col3\" >999.000000</td>\n",
       "      <td id=\"T_7f2b4_row4_col4\" class=\"data row4 col4\" >0.000000</td>\n",
       "      <td id=\"T_7f2b4_row4_col5\" class=\"data row4 col5\" >-1.800000</td>\n",
       "      <td id=\"T_7f2b4_row4_col6\" class=\"data row4 col6\" >93.075000</td>\n",
       "      <td id=\"T_7f2b4_row4_col7\" class=\"data row4 col7\" >-42.700000</td>\n",
       "      <td id=\"T_7f2b4_row4_col8\" class=\"data row4 col8\" >1.344000</td>\n",
       "      <td id=\"T_7f2b4_row4_col9\" class=\"data row4 col9\" >5099.100000</td>\n",
       "    </tr>\n",
       "    <tr>\n",
       "      <th id=\"T_7f2b4_level0_row5\" class=\"row_heading level0 row5\" >50%</th>\n",
       "      <td id=\"T_7f2b4_row5_col0\" class=\"data row5 col0\" >38.000000</td>\n",
       "      <td id=\"T_7f2b4_row5_col1\" class=\"data row5 col1\" >180.000000</td>\n",
       "      <td id=\"T_7f2b4_row5_col2\" class=\"data row5 col2\" >2.000000</td>\n",
       "      <td id=\"T_7f2b4_row5_col3\" class=\"data row5 col3\" >999.000000</td>\n",
       "      <td id=\"T_7f2b4_row5_col4\" class=\"data row5 col4\" >0.000000</td>\n",
       "      <td id=\"T_7f2b4_row5_col5\" class=\"data row5 col5\" >1.100000</td>\n",
       "      <td id=\"T_7f2b4_row5_col6\" class=\"data row5 col6\" >93.749000</td>\n",
       "      <td id=\"T_7f2b4_row5_col7\" class=\"data row5 col7\" >-41.800000</td>\n",
       "      <td id=\"T_7f2b4_row5_col8\" class=\"data row5 col8\" >4.857000</td>\n",
       "      <td id=\"T_7f2b4_row5_col9\" class=\"data row5 col9\" >5191.000000</td>\n",
       "    </tr>\n",
       "    <tr>\n",
       "      <th id=\"T_7f2b4_level0_row6\" class=\"row_heading level0 row6\" >75%</th>\n",
       "      <td id=\"T_7f2b4_row6_col0\" class=\"data row6 col0\" >47.000000</td>\n",
       "      <td id=\"T_7f2b4_row6_col1\" class=\"data row6 col1\" >319.000000</td>\n",
       "      <td id=\"T_7f2b4_row6_col2\" class=\"data row6 col2\" >3.000000</td>\n",
       "      <td id=\"T_7f2b4_row6_col3\" class=\"data row6 col3\" >999.000000</td>\n",
       "      <td id=\"T_7f2b4_row6_col4\" class=\"data row6 col4\" >0.000000</td>\n",
       "      <td id=\"T_7f2b4_row6_col5\" class=\"data row6 col5\" >1.400000</td>\n",
       "      <td id=\"T_7f2b4_row6_col6\" class=\"data row6 col6\" >93.994000</td>\n",
       "      <td id=\"T_7f2b4_row6_col7\" class=\"data row6 col7\" >-36.400000</td>\n",
       "      <td id=\"T_7f2b4_row6_col8\" class=\"data row6 col8\" >4.961000</td>\n",
       "      <td id=\"T_7f2b4_row6_col9\" class=\"data row6 col9\" >5228.100000</td>\n",
       "    </tr>\n",
       "    <tr>\n",
       "      <th id=\"T_7f2b4_level0_row7\" class=\"row_heading level0 row7\" >max</th>\n",
       "      <td id=\"T_7f2b4_row7_col0\" class=\"data row7 col0\" >98.000000</td>\n",
       "      <td id=\"T_7f2b4_row7_col1\" class=\"data row7 col1\" >4918.000000</td>\n",
       "      <td id=\"T_7f2b4_row7_col2\" class=\"data row7 col2\" >56.000000</td>\n",
       "      <td id=\"T_7f2b4_row7_col3\" class=\"data row7 col3\" >999.000000</td>\n",
       "      <td id=\"T_7f2b4_row7_col4\" class=\"data row7 col4\" >7.000000</td>\n",
       "      <td id=\"T_7f2b4_row7_col5\" class=\"data row7 col5\" >1.400000</td>\n",
       "      <td id=\"T_7f2b4_row7_col6\" class=\"data row7 col6\" >94.767000</td>\n",
       "      <td id=\"T_7f2b4_row7_col7\" class=\"data row7 col7\" >-26.900000</td>\n",
       "      <td id=\"T_7f2b4_row7_col8\" class=\"data row7 col8\" >5.045000</td>\n",
       "      <td id=\"T_7f2b4_row7_col9\" class=\"data row7 col9\" >5228.100000</td>\n",
       "    </tr>\n",
       "  </tbody>\n",
       "</table>\n"
      ],
      "text/plain": [
       "<pandas.io.formats.style.Styler at 0x19b96f336a0>"
      ]
     },
     "execution_count": 4,
     "metadata": {},
     "output_type": "execute_result"
    }
   ],
   "source": [
    "# Describe Data\n",
    "df.describe().style.background_gradient()"
   ]
  },
  {
   "cell_type": "code",
   "execution_count": 8,
   "id": "109cf547",
   "metadata": {},
   "outputs": [],
   "source": [
    "# show infomaion data\n",
    "def missing_value(x):\n",
    "    listSummary = []\n",
    "    for i in x.columns:\n",
    "        row = x[i].shape[0]\n",
    "        missingVal = x[i].isna().sum()\n",
    "        unique = len(x[i].unique())\n",
    "        typeCol = str(x[i].dtype)\n",
    "        percentageMissingVal = x[i].isna().sum()/x.shape[0]*100\n",
    "        listSummary.append([i, row,typeCol,unique, missingVal, percentageMissingVal])\n",
    "    return pd.DataFrame(listSummary, columns = ['Name Columns', 'Total row', 'type col', \n",
    "                                                'Total unique', 'Total miss val', \n",
    "                                                'percentage missing value'])"
   ]
  },
  {
   "cell_type": "code",
   "execution_count": 9,
   "id": "1a10fd63",
   "metadata": {},
   "outputs": [
    {
     "data": {
      "text/html": [
       "<div>\n",
       "<style scoped>\n",
       "    .dataframe tbody tr th:only-of-type {\n",
       "        vertical-align: middle;\n",
       "    }\n",
       "\n",
       "    .dataframe tbody tr th {\n",
       "        vertical-align: top;\n",
       "    }\n",
       "\n",
       "    .dataframe thead th {\n",
       "        text-align: right;\n",
       "    }\n",
       "</style>\n",
       "<table border=\"1\" class=\"dataframe\">\n",
       "  <thead>\n",
       "    <tr style=\"text-align: right;\">\n",
       "      <th></th>\n",
       "      <th>Name Columns</th>\n",
       "      <th>Total row</th>\n",
       "      <th>type col</th>\n",
       "      <th>Total unique</th>\n",
       "      <th>Total miss val</th>\n",
       "      <th>percentage missing value</th>\n",
       "    </tr>\n",
       "  </thead>\n",
       "  <tbody>\n",
       "    <tr>\n",
       "      <th>0</th>\n",
       "      <td>age</td>\n",
       "      <td>41188</td>\n",
       "      <td>int64</td>\n",
       "      <td>78</td>\n",
       "      <td>0</td>\n",
       "      <td>0.0</td>\n",
       "    </tr>\n",
       "    <tr>\n",
       "      <th>1</th>\n",
       "      <td>job</td>\n",
       "      <td>41188</td>\n",
       "      <td>object</td>\n",
       "      <td>12</td>\n",
       "      <td>0</td>\n",
       "      <td>0.0</td>\n",
       "    </tr>\n",
       "    <tr>\n",
       "      <th>2</th>\n",
       "      <td>marital</td>\n",
       "      <td>41188</td>\n",
       "      <td>object</td>\n",
       "      <td>4</td>\n",
       "      <td>0</td>\n",
       "      <td>0.0</td>\n",
       "    </tr>\n",
       "    <tr>\n",
       "      <th>3</th>\n",
       "      <td>education</td>\n",
       "      <td>41188</td>\n",
       "      <td>object</td>\n",
       "      <td>8</td>\n",
       "      <td>0</td>\n",
       "      <td>0.0</td>\n",
       "    </tr>\n",
       "    <tr>\n",
       "      <th>4</th>\n",
       "      <td>default</td>\n",
       "      <td>41188</td>\n",
       "      <td>object</td>\n",
       "      <td>3</td>\n",
       "      <td>0</td>\n",
       "      <td>0.0</td>\n",
       "    </tr>\n",
       "    <tr>\n",
       "      <th>5</th>\n",
       "      <td>housing</td>\n",
       "      <td>41188</td>\n",
       "      <td>object</td>\n",
       "      <td>3</td>\n",
       "      <td>0</td>\n",
       "      <td>0.0</td>\n",
       "    </tr>\n",
       "    <tr>\n",
       "      <th>6</th>\n",
       "      <td>loan</td>\n",
       "      <td>41188</td>\n",
       "      <td>object</td>\n",
       "      <td>3</td>\n",
       "      <td>0</td>\n",
       "      <td>0.0</td>\n",
       "    </tr>\n",
       "    <tr>\n",
       "      <th>7</th>\n",
       "      <td>contact</td>\n",
       "      <td>41188</td>\n",
       "      <td>object</td>\n",
       "      <td>2</td>\n",
       "      <td>0</td>\n",
       "      <td>0.0</td>\n",
       "    </tr>\n",
       "    <tr>\n",
       "      <th>8</th>\n",
       "      <td>month</td>\n",
       "      <td>41188</td>\n",
       "      <td>object</td>\n",
       "      <td>10</td>\n",
       "      <td>0</td>\n",
       "      <td>0.0</td>\n",
       "    </tr>\n",
       "    <tr>\n",
       "      <th>9</th>\n",
       "      <td>day_of_week</td>\n",
       "      <td>41188</td>\n",
       "      <td>object</td>\n",
       "      <td>5</td>\n",
       "      <td>0</td>\n",
       "      <td>0.0</td>\n",
       "    </tr>\n",
       "    <tr>\n",
       "      <th>10</th>\n",
       "      <td>duration</td>\n",
       "      <td>41188</td>\n",
       "      <td>int64</td>\n",
       "      <td>1544</td>\n",
       "      <td>0</td>\n",
       "      <td>0.0</td>\n",
       "    </tr>\n",
       "    <tr>\n",
       "      <th>11</th>\n",
       "      <td>campaign</td>\n",
       "      <td>41188</td>\n",
       "      <td>int64</td>\n",
       "      <td>42</td>\n",
       "      <td>0</td>\n",
       "      <td>0.0</td>\n",
       "    </tr>\n",
       "    <tr>\n",
       "      <th>12</th>\n",
       "      <td>pdays</td>\n",
       "      <td>41188</td>\n",
       "      <td>int64</td>\n",
       "      <td>27</td>\n",
       "      <td>0</td>\n",
       "      <td>0.0</td>\n",
       "    </tr>\n",
       "    <tr>\n",
       "      <th>13</th>\n",
       "      <td>previous</td>\n",
       "      <td>41188</td>\n",
       "      <td>int64</td>\n",
       "      <td>8</td>\n",
       "      <td>0</td>\n",
       "      <td>0.0</td>\n",
       "    </tr>\n",
       "    <tr>\n",
       "      <th>14</th>\n",
       "      <td>poutcome</td>\n",
       "      <td>41188</td>\n",
       "      <td>object</td>\n",
       "      <td>3</td>\n",
       "      <td>0</td>\n",
       "      <td>0.0</td>\n",
       "    </tr>\n",
       "    <tr>\n",
       "      <th>15</th>\n",
       "      <td>emp.var.rate</td>\n",
       "      <td>41188</td>\n",
       "      <td>float64</td>\n",
       "      <td>10</td>\n",
       "      <td>0</td>\n",
       "      <td>0.0</td>\n",
       "    </tr>\n",
       "    <tr>\n",
       "      <th>16</th>\n",
       "      <td>cons.price.idx</td>\n",
       "      <td>41188</td>\n",
       "      <td>float64</td>\n",
       "      <td>26</td>\n",
       "      <td>0</td>\n",
       "      <td>0.0</td>\n",
       "    </tr>\n",
       "    <tr>\n",
       "      <th>17</th>\n",
       "      <td>cons.conf.idx</td>\n",
       "      <td>41188</td>\n",
       "      <td>float64</td>\n",
       "      <td>26</td>\n",
       "      <td>0</td>\n",
       "      <td>0.0</td>\n",
       "    </tr>\n",
       "    <tr>\n",
       "      <th>18</th>\n",
       "      <td>euribor3m</td>\n",
       "      <td>41188</td>\n",
       "      <td>float64</td>\n",
       "      <td>316</td>\n",
       "      <td>0</td>\n",
       "      <td>0.0</td>\n",
       "    </tr>\n",
       "    <tr>\n",
       "      <th>19</th>\n",
       "      <td>nr.employed</td>\n",
       "      <td>41188</td>\n",
       "      <td>float64</td>\n",
       "      <td>11</td>\n",
       "      <td>0</td>\n",
       "      <td>0.0</td>\n",
       "    </tr>\n",
       "    <tr>\n",
       "      <th>20</th>\n",
       "      <td>y</td>\n",
       "      <td>41188</td>\n",
       "      <td>object</td>\n",
       "      <td>2</td>\n",
       "      <td>0</td>\n",
       "      <td>0.0</td>\n",
       "    </tr>\n",
       "  </tbody>\n",
       "</table>\n",
       "</div>"
      ],
      "text/plain": [
       "      Name Columns  Total row type col  Total unique  Total miss val  \\\n",
       "0              age      41188    int64            78               0   \n",
       "1              job      41188   object            12               0   \n",
       "2          marital      41188   object             4               0   \n",
       "3        education      41188   object             8               0   \n",
       "4          default      41188   object             3               0   \n",
       "5          housing      41188   object             3               0   \n",
       "6             loan      41188   object             3               0   \n",
       "7          contact      41188   object             2               0   \n",
       "8            month      41188   object            10               0   \n",
       "9      day_of_week      41188   object             5               0   \n",
       "10        duration      41188    int64          1544               0   \n",
       "11        campaign      41188    int64            42               0   \n",
       "12           pdays      41188    int64            27               0   \n",
       "13        previous      41188    int64             8               0   \n",
       "14        poutcome      41188   object             3               0   \n",
       "15    emp.var.rate      41188  float64            10               0   \n",
       "16  cons.price.idx      41188  float64            26               0   \n",
       "17   cons.conf.idx      41188  float64            26               0   \n",
       "18       euribor3m      41188  float64           316               0   \n",
       "19     nr.employed      41188  float64            11               0   \n",
       "20               y      41188   object             2               0   \n",
       "\n",
       "    percentage missing value  \n",
       "0                        0.0  \n",
       "1                        0.0  \n",
       "2                        0.0  \n",
       "3                        0.0  \n",
       "4                        0.0  \n",
       "5                        0.0  \n",
       "6                        0.0  \n",
       "7                        0.0  \n",
       "8                        0.0  \n",
       "9                        0.0  \n",
       "10                       0.0  \n",
       "11                       0.0  \n",
       "12                       0.0  \n",
       "13                       0.0  \n",
       "14                       0.0  \n",
       "15                       0.0  \n",
       "16                       0.0  \n",
       "17                       0.0  \n",
       "18                       0.0  \n",
       "19                       0.0  \n",
       "20                       0.0  "
      ]
     },
     "execution_count": 9,
     "metadata": {},
     "output_type": "execute_result"
    }
   ],
   "source": [
    "missing_value(df)"
   ]
  },
  {
   "cell_type": "markdown",
   "id": "fd6747e7",
   "metadata": {},
   "source": [
    "Take-away:\n",
    "\n",
    "- the dataset is not missing value.\n",
    "- the dataset have 13 feature is dtypes 'categorical'.\n",
    "- the dataset have 8 feature is dtypes 'numerical'."
   ]
  },
  {
   "cell_type": "code",
   "execution_count": 10,
   "id": "7fd5b333",
   "metadata": {},
   "outputs": [
    {
     "name": "stdout",
     "output_type": "stream",
     "text": [
      "============================= job ========================\n",
      "admin.           10422\n",
      "blue-collar       9254\n",
      "technician        6743\n",
      "services          3969\n",
      "management        2924\n",
      "retired           1720\n",
      "entrepreneur      1456\n",
      "self-employed     1421\n",
      "housemaid         1060\n",
      "unemployed        1014\n",
      "student            875\n",
      "unknown            330\n",
      "Name: job, dtype: int64\n",
      "============================= marital ========================\n",
      "married     24928\n",
      "single      11568\n",
      "divorced     4612\n",
      "unknown        80\n",
      "Name: marital, dtype: int64\n",
      "============================= education ========================\n",
      "university.degree      12168\n",
      "high.school             9515\n",
      "basic.9y                6045\n",
      "professional.course     5243\n",
      "basic.4y                4176\n",
      "basic.6y                2292\n",
      "unknown                 1731\n",
      "illiterate                18\n",
      "Name: education, dtype: int64\n",
      "============================= default ========================\n",
      "no         32588\n",
      "unknown     8597\n",
      "yes            3\n",
      "Name: default, dtype: int64\n",
      "============================= housing ========================\n",
      "yes        21576\n",
      "no         18622\n",
      "unknown      990\n",
      "Name: housing, dtype: int64\n",
      "============================= loan ========================\n",
      "no         33950\n",
      "yes         6248\n",
      "unknown      990\n",
      "Name: loan, dtype: int64\n",
      "============================= contact ========================\n",
      "cellular     26144\n",
      "telephone    15044\n",
      "Name: contact, dtype: int64\n",
      "============================= month ========================\n",
      "may    13769\n",
      "jul     7174\n",
      "aug     6178\n",
      "jun     5318\n",
      "nov     4101\n",
      "apr     2632\n",
      "oct      718\n",
      "sep      570\n",
      "mar      546\n",
      "dec      182\n",
      "Name: month, dtype: int64\n",
      "============================= day_of_week ========================\n",
      "thu    8623\n",
      "mon    8514\n",
      "wed    8134\n",
      "tue    8090\n",
      "fri    7827\n",
      "Name: day_of_week, dtype: int64\n",
      "============================= poutcome ========================\n",
      "nonexistent    35563\n",
      "failure         4252\n",
      "success         1373\n",
      "Name: poutcome, dtype: int64\n",
      "============================= y ========================\n",
      "no     36548\n",
      "yes     4640\n",
      "Name: y, dtype: int64\n"
     ]
    }
   ],
   "source": [
    "nameObj = df.select_dtypes('object').columns\n",
    "for i in nameObj:\n",
    "    print('=============================', i, '========================')\n",
    "    print(df[i].value_counts())"
   ]
  },
  {
   "cell_type": "code",
   "execution_count": 11,
   "id": "1e01b9d9",
   "metadata": {},
   "outputs": [
    {
     "data": {
      "image/png": "[encoded data removed]",
      "text/plain": [
       "<Figure size 1080x576 with 2 Axes>"
      ]
     },
     "metadata": {},
     "output_type": "display_data"
    }
   ],
   "source": [
    "fig = plt.figure(figsize=(15,8))\n",
    "plt.subplot(1,2,1)\n",
    "# define Seaborn color palette to use\n",
    "palette_color = sns.color_palette(\"flare\")\n",
    "plt.title('percentage deposit')\n",
    "# plotting data on chart\n",
    "plt.pie(df['y'].value_counts().values, labels=df['y'].value_counts().index, colors=palette_color, autopct='%.0f%%')\n",
    "  \n",
    "\n",
    "\n",
    "plt.subplot(1,2,2)\n",
    "# define Seaborn color palette to use\n",
    "palette_color = sns.color_palette(\"light:#5A9\")\n",
    "plt.title('percentage poutcome')\n",
    "# plotting data on chart\n",
    "plt.pie(df['poutcome'].value_counts().values, labels=df['poutcome'].value_counts().index, colors=palette_color, autopct='%.0f%%')\n",
    "  \n",
    "# displaying chart\n",
    "plt.show()"
   ]
  },
  {
   "cell_type": "markdown",
   "id": "3ac6fad6",
   "metadata": {},
   "source": [
    "# Problem"
   ]
  },
  {
   "cell_type": "markdown",
   "id": "1d27502d",
   "metadata": {},
   "source": [
    "- The marketing campaigns were based on phone calls. Often, more than one contact to the same client was required, in order to access if the product (bank term deposit) would be (or not) subscribed.\n",
    "- Based on the dataset. we can diagnostic this data having the problem about marketing direct don't effective."
   ]
  },
  {
   "cell_type": "markdown",
   "id": "1db42e89",
   "metadata": {},
   "source": [
    "### Find relationship between feature to deposit"
   ]
  },
  {
   "cell_type": "code",
   "execution_count": 13,
   "id": "eccdf25a",
   "metadata": {},
   "outputs": [],
   "source": [
    "categoricalFeature = [feature for feature in df.select_dtypes('object').columns if (feature not in ['y'])]"
   ]
  },
  {
   "cell_type": "code",
   "execution_count": 16,
   "id": "09bc138a",
   "metadata": {},
   "outputs": [
    {
     "data": {
      "image/png": "[encoded data removed]",
      "text/plain": [
       "<Figure size 1800x5040 with 10 Axes>"
      ]
     },
     "metadata": {
      "needs_background": "light"
     },
     "output_type": "display_data"
    }
   ],
   "source": [
    "fig = plt.figure(figsize = (25,70))\n",
    "plotNumber = 1\n",
    "for feature in categoricalFeature:\n",
    "    ax = plt.subplot(10,5, plotNumber)\n",
    "    sns.countplot(y = feature, data = df)\n",
    "    plt.title(feature)\n",
    "    plt.xlabel(feature)\n",
    "    plotNumber +=1\n",
    "plt.show()"
   ]
  },
  {
   "cell_type": "code",
   "execution_count": 17,
   "id": "346769b3",
   "metadata": {},
   "outputs": [
    {
     "data": {
      "text/plain": [
       "<Figure size 1080x5760 with 0 Axes>"
      ]
     },
     "metadata": {},
     "output_type": "display_data"
    },
    {
     "data": {
      "image/png": "[encoded data removed]",
      "text/plain": [
       "<Figure size 4320x360 with 12 Axes>"
      ]
     },
     "metadata": {
      "needs_background": "light"
     },
     "output_type": "display_data"
    },
    {
     "data": {
      "image/png": "[encoded data removed]",
      "text/plain": [
       "<Figure size 1440x360 with 4 Axes>"
      ]
     },
     "metadata": {
      "needs_background": "light"
     },
     "output_type": "display_data"
    },
    {
     "data": {
      "image/png": "[encoded data removed]",
      "text/plain": [
       "<Figure size 2880x360 with 8 Axes>"
      ]
     },
     "metadata": {
      "needs_background": "light"
     },
     "output_type": "display_data"
    },
    {
     "data": {
      "image/png": "[encoded data removed]",
      "text/plain": [
       "<Figure size 1080x360 with 3 Axes>"
      ]
     },
     "metadata": {
      "needs_background": "light"
     },
     "output_type": "display_data"
    },
    {
     "data": {
      "image/png": "[encoded data removed]",
      "text/plain": [
       "<Figure size 1080x360 with 3 Axes>"
      ]
     },
     "metadata": {
      "needs_background": "light"
     },
     "output_type": "display_data"
    },
    {
     "data": {
      "image/png": "[encoded data removed]",
      "text/plain": [
       "<Figure size 1080x360 with 3 Axes>"
      ]
     },
     "metadata": {
      "needs_background": "light"
     },
     "output_type": "display_data"
    },
    {
     "data": {
      "image/png": "[encoded data removed]",
      "text/plain": [
       "<Figure size 720x360 with 2 Axes>"
      ]
     },
     "metadata": {
      "needs_background": "light"
     },
     "output_type": "display_data"
    },
    {
     "data": {
      "image/png": "[encoded data removed]",
      "text/plain": [
       "<Figure size 3600x360 with 10 Axes>"
      ]
     },
     "metadata": {
      "needs_background": "light"
     },
     "output_type": "display_data"
    },
    {
     "data": {
      "image/png": "[encoded data removed]",
      "text/plain": [
       "<Figure size 1800x360 with 5 Axes>"
      ]
     },
     "metadata": {
      "needs_background": "light"
     },
     "output_type": "display_data"
    },
    {
     "data": {
      "image/png": "[encoded data removed]",
      "text/plain": [
       "<Figure size 1080x360 with 3 Axes>"
      ]
     },
     "metadata": {
      "needs_background": "light"
     },
     "output_type": "display_data"
    }
   ],
   "source": [
    "fig = plt.figure(figsize = (15,80))\n",
    "for feature in categoricalFeature:\n",
    "    sns.catplot(x=\"y\", col=feature, kind='count', data=df)\n",
    "plt.show()"
   ]
  },
  {
   "cell_type": "code",
   "execution_count": 20,
   "id": "a757a04a",
   "metadata": {},
   "outputs": [
    {
     "name": "stderr",
     "output_type": "stream",
     "text": [
      "C:\\Users\\ACER\\AppData\\Local\\Temp\\ipykernel_11980\\2084718273.py:1: DeprecationWarning: `np.int` is a deprecated alias for the builtin `int`. To silence this warning, use `int` by itself. Doing this will not modify any behavior and is safe. When replacing `np.int`, you may wish to use e.g. `np.int64` or `np.int32` to specify the precision. If you wish to review your current use, check the release note link for additional information.\n",
      "Deprecated in NumPy 1.20; for more details and guidance: https://numpy.org/devdocs/release/1.20.0-notes.html#deprecations\n",
      "  numericalFeature = [feature for feature in df.select_dtypes([np.int, np.float]) ];\n",
      "C:\\Users\\ACER\\AppData\\Local\\Temp\\ipykernel_11980\\2084718273.py:1: DeprecationWarning: `np.float` is a deprecated alias for the builtin `float`. To silence this warning, use `float` by itself. Doing this will not modify any behavior and is safe. If you specifically wanted the numpy scalar type, use `np.float64` here.\n",
      "Deprecated in NumPy 1.20; for more details and guidance: https://numpy.org/devdocs/release/1.20.0-notes.html#deprecations\n",
      "  numericalFeature = [feature for feature in df.select_dtypes([np.int, np.float]) ];\n"
     ]
    }
   ],
   "source": [
    "\n",
    "numericalFeature = [feature for feature in df.select_dtypes([np.int, np.float]) ];"
   ]
  },
  {
   "cell_type": "code",
   "execution_count": 21,
   "id": "268aac52",
   "metadata": {},
   "outputs": [
    {
     "name": "stderr",
     "output_type": "stream",
     "text": [
      "E:\\Anaconda\\lib\\site-packages\\seaborn\\_decorators.py:36: FutureWarning: Pass the following variable as a keyword arg: x. From version 0.12, the only valid positional argument will be `data`, and passing other arguments without an explicit keyword will result in an error or misinterpretation.\n",
      "  warnings.warn(\n",
      "E:\\Anaconda\\lib\\site-packages\\seaborn\\_decorators.py:36: FutureWarning: Pass the following variable as a keyword arg: x. From version 0.12, the only valid positional argument will be `data`, and passing other arguments without an explicit keyword will result in an error or misinterpretation.\n",
      "  warnings.warn(\n",
      "E:\\Anaconda\\lib\\site-packages\\seaborn\\_decorators.py:36: FutureWarning: Pass the following variable as a keyword arg: x. From version 0.12, the only valid positional argument will be `data`, and passing other arguments without an explicit keyword will result in an error or misinterpretation.\n",
      "  warnings.warn(\n",
      "E:\\Anaconda\\lib\\site-packages\\seaborn\\_decorators.py:36: FutureWarning: Pass the following variable as a keyword arg: x. From version 0.12, the only valid positional argument will be `data`, and passing other arguments without an explicit keyword will result in an error or misinterpretation.\n",
      "  warnings.warn(\n",
      "E:\\Anaconda\\lib\\site-packages\\seaborn\\_decorators.py:36: FutureWarning: Pass the following variable as a keyword arg: x. From version 0.12, the only valid positional argument will be `data`, and passing other arguments without an explicit keyword will result in an error or misinterpretation.\n",
      "  warnings.warn(\n",
      "E:\\Anaconda\\lib\\site-packages\\seaborn\\_decorators.py:36: FutureWarning: Pass the following variable as a keyword arg: x. From version 0.12, the only valid positional argument will be `data`, and passing other arguments without an explicit keyword will result in an error or misinterpretation.\n",
      "  warnings.warn(\n",
      "E:\\Anaconda\\lib\\site-packages\\seaborn\\_decorators.py:36: FutureWarning: Pass the following variable as a keyword arg: x. From version 0.12, the only valid positional argument will be `data`, and passing other arguments without an explicit keyword will result in an error or misinterpretation.\n",
      "  warnings.warn(\n",
      "E:\\Anaconda\\lib\\site-packages\\seaborn\\_decorators.py:36: FutureWarning: Pass the following variable as a keyword arg: x. From version 0.12, the only valid positional argument will be `data`, and passing other arguments without an explicit keyword will result in an error or misinterpretation.\n",
      "  warnings.warn(\n",
      "E:\\Anaconda\\lib\\site-packages\\seaborn\\_decorators.py:36: FutureWarning: Pass the following variable as a keyword arg: x. From version 0.12, the only valid positional argument will be `data`, and passing other arguments without an explicit keyword will result in an error or misinterpretation.\n",
      "  warnings.warn(\n",
      "E:\\Anaconda\\lib\\site-packages\\seaborn\\_decorators.py:36: FutureWarning: Pass the following variable as a keyword arg: x. From version 0.12, the only valid positional argument will be `data`, and passing other arguments without an explicit keyword will result in an error or misinterpretation.\n",
      "  warnings.warn(\n"
     ]
    },
    {
     "data": {
      "image/png": "[encoded data removed]",
      "text/plain": [
       "<Figure size 1080x5760 with 10 Axes>"
      ]
     },
     "metadata": {
      "needs_background": "light"
     },
     "output_type": "display_data"
    }
   ],
   "source": [
    "fig = plt.figure(figsize = (15,80))\n",
    "numberPlot = 1\n",
    "for feature in numericalFeature:\n",
    "    plt.subplot(12,3, numberPlot);\n",
    "    sns.boxplot(df[feature])\n",
    "    plt.xlabel(feature)\n",
    "    numberPlot += 1\n",
    "plt.show()"
   ]
  },
  {
   "cell_type": "code",
   "execution_count": 22,
   "id": "479f18be",
   "metadata": {},
   "outputs": [
    {
     "data": {
      "image/png": "[encoded data removed]",
      "text/plain": [
       "<Figure size 1080x5760 with 10 Axes>"
      ]
     },
     "metadata": {
      "needs_background": "light"
     },
     "output_type": "display_data"
    }
   ],
   "source": [
    "fig = plt.figure(figsize = (15,80))\n",
    "plotnumber =1\n",
    "for feature in numericalFeature:\n",
    "    ax = plt.subplot(12,3,plotnumber)\n",
    "    sns.boxplot(x=\"y\", y=feature, data=df)\n",
    "    plt.xlabel(feature)\n",
    "    plotnumber+=1\n",
    "plt.show()"
   ]
  },
  {
   "cell_type": "markdown",
   "id": "68ee2cea",
   "metadata": {},
   "source": [
    "## Correlation coefficient"
   ]
  },
  {
   "cell_type": "code",
   "execution_count": 23,
   "id": "177a4c7d",
   "metadata": {},
   "outputs": [],
   "source": [
    "df['deposit'] = df['y']\n",
    "df.replace({'deposit': {'no': 0, 'yes': 1}}, inplace = True)"
   ]
  },
  {
   "cell_type": "code",
   "execution_count": 24,
   "id": "57b992cd",
   "metadata": {},
   "outputs": [
    {
     "name": "stdout",
     "output_type": "stream",
     "text": [
      "correlation coefficient between y and 10 relative attributes\n"
     ]
    },
    {
     "data": {
      "text/html": [
       "<style type=\"text/css\">\n",
       "#T_e026a_row0_col0 {\n",
       "  background-color: #c5cce3;\n",
       "  color: #000000;\n",
       "}\n",
       "#T_e026a_row1_col0 {\n",
       "  background-color: #569dc8;\n",
       "  color: #f1f1f1;\n",
       "}\n",
       "#T_e026a_row2_col0 {\n",
       "  background-color: #d9d8ea;\n",
       "  color: #000000;\n",
       "}\n",
       "#T_e026a_row3_col0 {\n",
       "  background-color: #fcf4fa;\n",
       "  color: #000000;\n",
       "}\n",
       "#T_e026a_row4_col0 {\n",
       "  background-color: #8fb4d6;\n",
       "  color: #000000;\n",
       "}\n",
       "#T_e026a_row5_col0 {\n",
       "  background-color: #f9f2f8;\n",
       "  color: #000000;\n",
       "}\n",
       "#T_e026a_row6_col0 {\n",
       "  background-color: #e4e1ef;\n",
       "  color: #000000;\n",
       "}\n",
       "#T_e026a_row7_col0 {\n",
       "  background-color: #bfc9e1;\n",
       "  color: #000000;\n",
       "}\n",
       "#T_e026a_row8_col0 {\n",
       "  background-color: #faf3f9;\n",
       "  color: #000000;\n",
       "}\n",
       "#T_e026a_row9_col0 {\n",
       "  background-color: #fff7fb;\n",
       "  color: #000000;\n",
       "}\n",
       "#T_e026a_row10_col0 {\n",
       "  background-color: #023858;\n",
       "  color: #f1f1f1;\n",
       "}\n",
       "</style>\n",
       "<table id=\"T_e026a\">\n",
       "  <thead>\n",
       "    <tr>\n",
       "      <th class=\"blank level0\" >&nbsp;</th>\n",
       "      <th id=\"T_e026a_level0_col0\" class=\"col_heading level0 col0\" >deposit</th>\n",
       "    </tr>\n",
       "  </thead>\n",
       "  <tbody>\n",
       "    <tr>\n",
       "      <th id=\"T_e026a_level0_row0\" class=\"row_heading level0 row0\" >age</th>\n",
       "      <td id=\"T_e026a_row0_col0\" class=\"data row0 col0\" >0.030399</td>\n",
       "    </tr>\n",
       "    <tr>\n",
       "      <th id=\"T_e026a_level0_row1\" class=\"row_heading level0 row1\" >duration</th>\n",
       "      <td id=\"T_e026a_row1_col0\" class=\"data row1 col0\" >0.405274</td>\n",
       "    </tr>\n",
       "    <tr>\n",
       "      <th id=\"T_e026a_level0_row2\" class=\"row_heading level0 row2\" >campaign</th>\n",
       "      <td id=\"T_e026a_row2_col0\" class=\"data row2 col0\" >-0.066357</td>\n",
       "    </tr>\n",
       "    <tr>\n",
       "      <th id=\"T_e026a_level0_row3\" class=\"row_heading level0 row3\" >pdays</th>\n",
       "      <td id=\"T_e026a_row3_col0\" class=\"data row3 col0\" >-0.324914</td>\n",
       "    </tr>\n",
       "    <tr>\n",
       "      <th id=\"T_e026a_level0_row4\" class=\"row_heading level0 row4\" >previous</th>\n",
       "      <td id=\"T_e026a_row4_col0\" class=\"data row4 col0\" >0.230181</td>\n",
       "    </tr>\n",
       "    <tr>\n",
       "      <th id=\"T_e026a_level0_row5\" class=\"row_heading level0 row5\" >emp.var.rate</th>\n",
       "      <td id=\"T_e026a_row5_col0\" class=\"data row5 col0\" >-0.298334</td>\n",
       "    </tr>\n",
       "    <tr>\n",
       "      <th id=\"T_e026a_level0_row6\" class=\"row_heading level0 row6\" >cons.price.idx</th>\n",
       "      <td id=\"T_e026a_row6_col0\" class=\"data row6 col0\" >-0.136211</td>\n",
       "    </tr>\n",
       "    <tr>\n",
       "      <th id=\"T_e026a_level0_row7\" class=\"row_heading level0 row7\" >cons.conf.idx</th>\n",
       "      <td id=\"T_e026a_row7_col0\" class=\"data row7 col0\" >0.054878</td>\n",
       "    </tr>\n",
       "    <tr>\n",
       "      <th id=\"T_e026a_level0_row8\" class=\"row_heading level0 row8\" >euribor3m</th>\n",
       "      <td id=\"T_e026a_row8_col0\" class=\"data row8 col0\" >-0.307771</td>\n",
       "    </tr>\n",
       "    <tr>\n",
       "      <th id=\"T_e026a_level0_row9\" class=\"row_heading level0 row9\" >nr.employed</th>\n",
       "      <td id=\"T_e026a_row9_col0\" class=\"data row9 col0\" >-0.354678</td>\n",
       "    </tr>\n",
       "    <tr>\n",
       "      <th id=\"T_e026a_level0_row10\" class=\"row_heading level0 row10\" >deposit</th>\n",
       "      <td id=\"T_e026a_row10_col0\" class=\"data row10 col0\" >1.000000</td>\n",
       "    </tr>\n",
       "  </tbody>\n",
       "</table>\n"
      ],
      "text/plain": [
       "<pandas.io.formats.style.Styler at 0x19b9c9c42e0>"
      ]
     },
     "execution_count": 24,
     "metadata": {},
     "output_type": "execute_result"
    }
   ],
   "source": [
    "\n",
    "print('correlation coefficient between y and 10 relative attributes')\n",
    "pd.DataFrame(df.corr()['deposit']).style.background_gradient()"
   ]
  },
  {
   "cell_type": "markdown",
   "id": "35783ac4",
   "metadata": {},
   "source": [
    "#### Take-away:\n",
    "- Categorical:\n",
    "    Take a further look.we determine that several of the following variables arre of no consequence to the marketing campaign's. For example. feature housing, loan, contact is involving deposit.\n",
    "- Numerical:\n",
    "    - favorable: age, previous, cons.conf.idx\n",
    "    - inverse: campaign, pdays, emp.var.rate, cons.price.idx, nr.employed"
   ]
  },
  {
   "cell_type": "markdown",
   "id": "23bb9e5f",
   "metadata": {},
   "source": [
    "## Reducing reduntant data "
   ]
  },
  {
   "cell_type": "code",
   "execution_count": 26,
   "id": "22f5b89d",
   "metadata": {},
   "outputs": [
    {
     "data": {
      "text/html": [
       "<div>\n",
       "<style scoped>\n",
       "    .dataframe tbody tr th:only-of-type {\n",
       "        vertical-align: middle;\n",
       "    }\n",
       "\n",
       "    .dataframe tbody tr th {\n",
       "        vertical-align: top;\n",
       "    }\n",
       "\n",
       "    .dataframe thead th {\n",
       "        text-align: right;\n",
       "    }\n",
       "</style>\n",
       "<table border=\"1\" class=\"dataframe\">\n",
       "  <thead>\n",
       "    <tr style=\"text-align: right;\">\n",
       "      <th></th>\n",
       "      <th>age</th>\n",
       "      <th>job</th>\n",
       "      <th>marital</th>\n",
       "      <th>education</th>\n",
       "      <th>default</th>\n",
       "      <th>month</th>\n",
       "      <th>cons.price.idx</th>\n",
       "      <th>euribor3m</th>\n",
       "      <th>campaign</th>\n",
       "      <th>poutcome</th>\n",
       "      <th>deposit</th>\n",
       "    </tr>\n",
       "  </thead>\n",
       "  <tbody>\n",
       "    <tr>\n",
       "      <th>0</th>\n",
       "      <td>56</td>\n",
       "      <td>housemaid</td>\n",
       "      <td>married</td>\n",
       "      <td>basic.4y</td>\n",
       "      <td>no</td>\n",
       "      <td>may</td>\n",
       "      <td>93.994</td>\n",
       "      <td>4.857</td>\n",
       "      <td>1</td>\n",
       "      <td>nonexistent</td>\n",
       "      <td>0</td>\n",
       "    </tr>\n",
       "    <tr>\n",
       "      <th>1</th>\n",
       "      <td>57</td>\n",
       "      <td>services</td>\n",
       "      <td>married</td>\n",
       "      <td>high.school</td>\n",
       "      <td>unknown</td>\n",
       "      <td>may</td>\n",
       "      <td>93.994</td>\n",
       "      <td>4.857</td>\n",
       "      <td>1</td>\n",
       "      <td>nonexistent</td>\n",
       "      <td>0</td>\n",
       "    </tr>\n",
       "    <tr>\n",
       "      <th>2</th>\n",
       "      <td>37</td>\n",
       "      <td>services</td>\n",
       "      <td>married</td>\n",
       "      <td>high.school</td>\n",
       "      <td>no</td>\n",
       "      <td>may</td>\n",
       "      <td>93.994</td>\n",
       "      <td>4.857</td>\n",
       "      <td>1</td>\n",
       "      <td>nonexistent</td>\n",
       "      <td>0</td>\n",
       "    </tr>\n",
       "    <tr>\n",
       "      <th>3</th>\n",
       "      <td>40</td>\n",
       "      <td>admin.</td>\n",
       "      <td>married</td>\n",
       "      <td>basic.6y</td>\n",
       "      <td>no</td>\n",
       "      <td>may</td>\n",
       "      <td>93.994</td>\n",
       "      <td>4.857</td>\n",
       "      <td>1</td>\n",
       "      <td>nonexistent</td>\n",
       "      <td>0</td>\n",
       "    </tr>\n",
       "    <tr>\n",
       "      <th>4</th>\n",
       "      <td>56</td>\n",
       "      <td>services</td>\n",
       "      <td>married</td>\n",
       "      <td>high.school</td>\n",
       "      <td>no</td>\n",
       "      <td>may</td>\n",
       "      <td>93.994</td>\n",
       "      <td>4.857</td>\n",
       "      <td>1</td>\n",
       "      <td>nonexistent</td>\n",
       "      <td>0</td>\n",
       "    </tr>\n",
       "  </tbody>\n",
       "</table>\n",
       "</div>"
      ],
      "text/plain": [
       "   age        job  marital    education  default month  cons.price.idx  \\\n",
       "0   56  housemaid  married     basic.4y       no   may          93.994   \n",
       "1   57   services  married  high.school  unknown   may          93.994   \n",
       "2   37   services  married  high.school       no   may          93.994   \n",
       "3   40     admin.  married     basic.6y       no   may          93.994   \n",
       "4   56   services  married  high.school       no   may          93.994   \n",
       "\n",
       "   euribor3m  campaign     poutcome  deposit  \n",
       "0      4.857         1  nonexistent        0  \n",
       "1      4.857         1  nonexistent        0  \n",
       "2      4.857         1  nonexistent        0  \n",
       "3      4.857         1  nonexistent        0  \n",
       "4      4.857         1  nonexistent        0  "
      ]
     },
     "execution_count": 26,
     "metadata": {},
     "output_type": "execute_result"
    }
   ],
   "source": [
    "cols_to_include = ['age', 'job','marital', 'education', 'default','month', 'cons.price.idx', 'euribor3m', 'campaign', 'poutcome', 'deposit']\n",
    "\n",
    "data = df[cols_to_include]\n",
    "data.head()"
   ]
  },
  {
   "cell_type": "code",
   "execution_count": 29,
   "id": "a9a32e6f",
   "metadata": {},
   "outputs": [
    {
     "name": "stderr",
     "output_type": "stream",
     "text": [
      "C:\\Users\\ACER\\AppData\\Local\\Temp\\ipykernel_11980\\3543806958.py:5: SettingWithCopyWarning: \n",
      "A value is trying to be set on a copy of a slice from a DataFrame.\n",
      "Try using .loc[row_indexer,col_indexer] = value instead\n",
      "\n",
      "See the caveats in the documentation: https://pandas.pydata.org/pandas-docs/stable/user_guide/indexing.html#returning-a-view-versus-a-copy\n",
      "  data['group_age'] = np.vectorize(dic.get)(np.digitize(df['age'],bins))\n"
     ]
    },
    {
     "data": {
      "text/html": [
       "<style type=\"text/css\">\n",
       "</style>\n",
       "<table id=\"T_20193\">\n",
       "  <thead>\n",
       "    <tr>\n",
       "      <th class=\"blank level0\" >&nbsp;</th>\n",
       "      <th id=\"T_20193_level0_col0\" class=\"col_heading level0 col0\" >Deposit</th>\n",
       "      <th id=\"T_20193_level0_col1\" class=\"col_heading level0 col1\" >no Deposit</th>\n",
       "      <th id=\"T_20193_level0_col2\" class=\"col_heading level0 col2\" >% of Deposits</th>\n",
       "    </tr>\n",
       "    <tr>\n",
       "      <th class=\"index_name level0\" >group_age</th>\n",
       "      <th class=\"blank col0\" >&nbsp;</th>\n",
       "      <th class=\"blank col1\" >&nbsp;</th>\n",
       "      <th class=\"blank col2\" >&nbsp;</th>\n",
       "    </tr>\n",
       "  </thead>\n",
       "  <tbody>\n",
       "    <tr>\n",
       "      <th id=\"T_20193_level0_row0\" class=\"row_heading level0 row0\" >18-20</th>\n",
       "      <td id=\"T_20193_row0_col0\" class=\"data row0 col0\" >32</td>\n",
       "      <td id=\"T_20193_row0_col1\" class=\"data row0 col1\" >38</td>\n",
       "      <td id=\"T_20193_row0_col2\" class=\"data row0 col2\" >46</td>\n",
       "    </tr>\n",
       "    <tr>\n",
       "      <th id=\"T_20193_level0_row1\" class=\"row_heading level0 row1\" >20-25</th>\n",
       "      <td id=\"T_20193_row1_col0\" class=\"data row1 col0\" >222</td>\n",
       "      <td id=\"T_20193_row1_col1\" class=\"data row1 col1\" >771</td>\n",
       "      <td id=\"T_20193_row1_col2\" class=\"data row1 col2\" >22</td>\n",
       "    </tr>\n",
       "    <tr>\n",
       "      <th id=\"T_20193_level0_row2\" class=\"row_heading level0 row2\" >25-30</th>\n",
       "      <td id=\"T_20193_row2_col0\" class=\"data row2 col0\" >666</td>\n",
       "      <td id=\"T_20193_row2_col1\" class=\"data row2 col1\" >3,935</td>\n",
       "      <td id=\"T_20193_row2_col2\" class=\"data row2 col2\" >14</td>\n",
       "    </tr>\n",
       "    <tr>\n",
       "      <th id=\"T_20193_level0_row3\" class=\"row_heading level0 row3\" >30-35</th>\n",
       "      <td id=\"T_20193_row3_col0\" class=\"data row3 col0\" >1,000</td>\n",
       "      <td id=\"T_20193_row3_col1\" class=\"data row3 col1\" >8,085</td>\n",
       "      <td id=\"T_20193_row3_col2\" class=\"data row3 col2\" >11</td>\n",
       "    </tr>\n",
       "    <tr>\n",
       "      <th id=\"T_20193_level0_row4\" class=\"row_heading level0 row4\" >35-40</th>\n",
       "      <td id=\"T_20193_row4_col0\" class=\"data row4 col0\" >715</td>\n",
       "      <td id=\"T_20193_row4_col1\" class=\"data row4 col1\" >7,138</td>\n",
       "      <td id=\"T_20193_row4_col2\" class=\"data row4 col2\" >9</td>\n",
       "    </tr>\n",
       "    <tr>\n",
       "      <th id=\"T_20193_level0_row5\" class=\"row_heading level0 row5\" >40-45</th>\n",
       "      <td id=\"T_20193_row5_col0\" class=\"data row5 col0\" >453</td>\n",
       "      <td id=\"T_20193_row5_col1\" class=\"data row5 col1\" >5,194</td>\n",
       "      <td id=\"T_20193_row5_col2\" class=\"data row5 col2\" >8</td>\n",
       "    </tr>\n",
       "    <tr>\n",
       "      <th id=\"T_20193_level0_row6\" class=\"row_heading level0 row6\" >45-50</th>\n",
       "      <td id=\"T_20193_row6_col0\" class=\"data row6 col0\" >381</td>\n",
       "      <td id=\"T_20193_row6_col1\" class=\"data row6 col1\" >4,498</td>\n",
       "      <td id=\"T_20193_row6_col2\" class=\"data row6 col2\" >8</td>\n",
       "    </tr>\n",
       "    <tr>\n",
       "      <th id=\"T_20193_level0_row7\" class=\"row_heading level0 row7\" >50-55</th>\n",
       "      <td id=\"T_20193_row7_col0\" class=\"data row7 col0\" >372</td>\n",
       "      <td id=\"T_20193_row7_col1\" class=\"data row7 col1\" >3,453</td>\n",
       "      <td id=\"T_20193_row7_col2\" class=\"data row7 col2\" >10</td>\n",
       "    </tr>\n",
       "    <tr>\n",
       "      <th id=\"T_20193_level0_row8\" class=\"row_heading level0 row8\" >55-60</th>\n",
       "      <td id=\"T_20193_row8_col0\" class=\"data row8 col0\" >325</td>\n",
       "      <td id=\"T_20193_row8_col1\" class=\"data row8 col1\" >2,712</td>\n",
       "      <td id=\"T_20193_row8_col2\" class=\"data row8 col2\" >11</td>\n",
       "    </tr>\n",
       "    <tr>\n",
       "      <th id=\"T_20193_level0_row9\" class=\"row_heading level0 row9\" >60-65</th>\n",
       "      <td id=\"T_20193_row9_col0\" class=\"data row9 col0\" >159</td>\n",
       "      <td id=\"T_20193_row9_col1\" class=\"data row9 col1\" >371</td>\n",
       "      <td id=\"T_20193_row9_col2\" class=\"data row9 col2\" >30</td>\n",
       "    </tr>\n",
       "    <tr>\n",
       "      <th id=\"T_20193_level0_row10\" class=\"row_heading level0 row10\" >65-70</th>\n",
       "      <td id=\"T_20193_row10_col0\" class=\"data row10 col0\" >92</td>\n",
       "      <td id=\"T_20193_row10_col1\" class=\"data row10 col1\" >102</td>\n",
       "      <td id=\"T_20193_row10_col2\" class=\"data row10 col2\" >47</td>\n",
       "    </tr>\n",
       "    <tr>\n",
       "      <th id=\"T_20193_level0_row11\" class=\"row_heading level0 row11\" >70-75</th>\n",
       "      <td id=\"T_20193_row11_col0\" class=\"data row11 col0\" >81</td>\n",
       "      <td id=\"T_20193_row11_col1\" class=\"data row11 col1\" >119</td>\n",
       "      <td id=\"T_20193_row11_col2\" class=\"data row11 col2\" >40</td>\n",
       "    </tr>\n",
       "    <tr>\n",
       "      <th id=\"T_20193_level0_row12\" class=\"row_heading level0 row12\" >75+</th>\n",
       "      <td id=\"T_20193_row12_col0\" class=\"data row12 col0\" >140</td>\n",
       "      <td id=\"T_20193_row12_col1\" class=\"data row12 col1\" >129</td>\n",
       "      <td id=\"T_20193_row12_col2\" class=\"data row12 col2\" >52</td>\n",
       "    </tr>\n",
       "    <tr>\n",
       "      <th id=\"T_20193_level0_row13\" class=\"row_heading level0 row13\" >None</th>\n",
       "      <td id=\"T_20193_row13_col0\" class=\"data row13 col0\" >2</td>\n",
       "      <td id=\"T_20193_row13_col1\" class=\"data row13 col1\" >3</td>\n",
       "      <td id=\"T_20193_row13_col2\" class=\"data row13 col2\" >40</td>\n",
       "    </tr>\n",
       "    <tr>\n",
       "      <th id=\"T_20193_level0_row14\" class=\"row_heading level0 row14\" >Total</th>\n",
       "      <td id=\"T_20193_row14_col0\" class=\"data row14 col0\" >4,640</td>\n",
       "      <td id=\"T_20193_row14_col1\" class=\"data row14 col1\" >36,548</td>\n",
       "      <td id=\"T_20193_row14_col2\" class=\"data row14 col2\" >11</td>\n",
       "    </tr>\n",
       "  </tbody>\n",
       "</table>\n"
      ],
      "text/plain": [
       "<pandas.io.formats.style.Styler at 0x19b9ce710a0>"
      ]
     },
     "execution_count": 29,
     "metadata": {},
     "output_type": "execute_result"
    }
   ],
   "source": [
    "def deposit_age():\n",
    "    bins = [18, 20, 25, 30, 35, 40, 45, 50, 55, 60, 65, 70, 75]\n",
    "    names = ['18-20', '20-25', '25-30', '30-35', '35-40', '40-45', '45-50', '50-55', '55-60', '60-65', '65-70', '70-75', '75+']\n",
    "    dic = dict(enumerate(names, 1))\n",
    "    data['group_age'] = np.vectorize(dic.get)(np.digitize(df['age'],bins))\n",
    "    yesDeposit = data.loc[data['deposit'] == 1].groupby('group_age')[['deposit']].count()\n",
    "    noDeposit = data.loc[data['deposit'] == 0].groupby('group_age')[['deposit']].count()\n",
    "    \n",
    "    yesDeposit.rename(columns={'deposit':'Deposit'}, inplace=True)\n",
    "    noDeposit.rename(columns={'deposit':'no Deposit'}, inplace=True)\n",
    "    \n",
    "    merged_df = pd.concat([yesDeposit, noDeposit], axis = 1)\n",
    "    \n",
    "    merged_df.loc['Total'] = merged_df.sum(numeric_only=True, axis=0)\n",
    "    \n",
    "    merged_df['% of Deposits'] = round((merged_df['Deposit'] / (merged_df['Deposit'] \\\n",
    "                                                                + merged_df['no Deposit']))* 100, 2)\n",
    "    return merged_df.style.format(\"{:,.0f}\")\n",
    "deposit_age()"
   ]
  },
  {
   "cell_type": "markdown",
   "id": "0e3965ca",
   "metadata": {},
   "source": [
    "Take-away:\n",
    "- We can see. Age from 65 to 75+ and 18 to 25 having rate deposit higher than other age."
   ]
  },
  {
   "cell_type": "code",
   "execution_count": 31,
   "id": "4b93eeb1",
   "metadata": {},
   "outputs": [
    {
     "data": {
      "text/html": [
       "<style type=\"text/css\">\n",
       "</style>\n",
       "<table id=\"T_ca9bc\">\n",
       "  <thead>\n",
       "    <tr>\n",
       "      <th class=\"blank level0\" >&nbsp;</th>\n",
       "      <th id=\"T_ca9bc_level0_col0\" class=\"col_heading level0 col0\" >Deposit</th>\n",
       "      <th id=\"T_ca9bc_level0_col1\" class=\"col_heading level0 col1\" >no Deposit</th>\n",
       "      <th id=\"T_ca9bc_level0_col2\" class=\"col_heading level0 col2\" >% of Deposits</th>\n",
       "    </tr>\n",
       "    <tr>\n",
       "      <th class=\"index_name level0\" >marital</th>\n",
       "      <th class=\"blank col0\" >&nbsp;</th>\n",
       "      <th class=\"blank col1\" >&nbsp;</th>\n",
       "      <th class=\"blank col2\" >&nbsp;</th>\n",
       "    </tr>\n",
       "  </thead>\n",
       "  <tbody>\n",
       "    <tr>\n",
       "      <th id=\"T_ca9bc_level0_row0\" class=\"row_heading level0 row0\" >divorced</th>\n",
       "      <td id=\"T_ca9bc_row0_col0\" class=\"data row0 col0\" >476</td>\n",
       "      <td id=\"T_ca9bc_row0_col1\" class=\"data row0 col1\" >4,136</td>\n",
       "      <td id=\"T_ca9bc_row0_col2\" class=\"data row0 col2\" >10</td>\n",
       "    </tr>\n",
       "    <tr>\n",
       "      <th id=\"T_ca9bc_level0_row1\" class=\"row_heading level0 row1\" >married</th>\n",
       "      <td id=\"T_ca9bc_row1_col0\" class=\"data row1 col0\" >2,532</td>\n",
       "      <td id=\"T_ca9bc_row1_col1\" class=\"data row1 col1\" >22,396</td>\n",
       "      <td id=\"T_ca9bc_row1_col2\" class=\"data row1 col2\" >10</td>\n",
       "    </tr>\n",
       "    <tr>\n",
       "      <th id=\"T_ca9bc_level0_row2\" class=\"row_heading level0 row2\" >single</th>\n",
       "      <td id=\"T_ca9bc_row2_col0\" class=\"data row2 col0\" >1,620</td>\n",
       "      <td id=\"T_ca9bc_row2_col1\" class=\"data row2 col1\" >9,948</td>\n",
       "      <td id=\"T_ca9bc_row2_col2\" class=\"data row2 col2\" >14</td>\n",
       "    </tr>\n",
       "    <tr>\n",
       "      <th id=\"T_ca9bc_level0_row3\" class=\"row_heading level0 row3\" >unknown</th>\n",
       "      <td id=\"T_ca9bc_row3_col0\" class=\"data row3 col0\" >12</td>\n",
       "      <td id=\"T_ca9bc_row3_col1\" class=\"data row3 col1\" >68</td>\n",
       "      <td id=\"T_ca9bc_row3_col2\" class=\"data row3 col2\" >15</td>\n",
       "    </tr>\n",
       "    <tr>\n",
       "      <th id=\"T_ca9bc_level0_row4\" class=\"row_heading level0 row4\" >Total</th>\n",
       "      <td id=\"T_ca9bc_row4_col0\" class=\"data row4 col0\" >4,640</td>\n",
       "      <td id=\"T_ca9bc_row4_col1\" class=\"data row4 col1\" >36,548</td>\n",
       "      <td id=\"T_ca9bc_row4_col2\" class=\"data row4 col2\" >11</td>\n",
       "    </tr>\n",
       "  </tbody>\n",
       "</table>\n"
      ],
      "text/plain": [
       "<pandas.io.formats.style.Styler at 0x19b97bbee20>"
      ]
     },
     "execution_count": 31,
     "metadata": {},
     "output_type": "execute_result"
    }
   ],
   "source": [
    "def marital_deposit():\n",
    "    yesDeposit = data.loc[data['deposit'] == 1].groupby('marital')[['deposit']].count()\n",
    "    noDeposit = data.loc[data['deposit'] == 0].groupby('marital')[['deposit']].count()\n",
    "    \n",
    "    yesDeposit.rename(columns={'deposit':'Deposit'}, inplace=True)\n",
    "    noDeposit.rename(columns={'deposit':'no Deposit'}, inplace=True)\n",
    "    \n",
    "    merged_df = pd.concat([yesDeposit, noDeposit], axis = 1)\n",
    "    \n",
    "    merged_df.loc['Total'] = merged_df.sum(numeric_only=True, axis=0)\n",
    "    \n",
    "    merged_df['% of Deposits'] = round((merged_df['Deposit'] / (merged_df['Deposit'] \\\n",
    "                                                                + merged_df['no Deposit']))* 100, 2)\n",
    "    return merged_df.style.format(\"{:,.0f}\")\n",
    "\n",
    "marital_deposit()"
   ]
  },
  {
   "cell_type": "markdown",
   "id": "ddb06a39",
   "metadata": {},
   "source": [
    "- we can see. divorced and married having rate deposit less than single."
   ]
  },
  {
   "cell_type": "code",
   "execution_count": 32,
   "id": "3bab9fa3",
   "metadata": {},
   "outputs": [
    {
     "data": {
      "text/html": [
       "<div>\n",
       "<style scoped>\n",
       "    .dataframe tbody tr th:only-of-type {\n",
       "        vertical-align: middle;\n",
       "    }\n",
       "\n",
       "    .dataframe tbody tr th {\n",
       "        vertical-align: top;\n",
       "    }\n",
       "\n",
       "    .dataframe thead th {\n",
       "        text-align: right;\n",
       "    }\n",
       "</style>\n",
       "<table border=\"1\" class=\"dataframe\">\n",
       "  <thead>\n",
       "    <tr style=\"text-align: right;\">\n",
       "      <th></th>\n",
       "      <th>Mean</th>\n",
       "      <th>Standard Deviation</th>\n",
       "      <th>Minimum</th>\n",
       "      <th>Q1</th>\n",
       "      <th>Median</th>\n",
       "      <th>Q3</th>\n",
       "      <th>Maximum</th>\n",
       "    </tr>\n",
       "  </thead>\n",
       "  <tbody>\n",
       "    <tr>\n",
       "      <th>age</th>\n",
       "      <td>40.02</td>\n",
       "      <td>10.42</td>\n",
       "      <td>17.00</td>\n",
       "      <td>32.00</td>\n",
       "      <td>38.00</td>\n",
       "      <td>47.00</td>\n",
       "      <td>98.00</td>\n",
       "    </tr>\n",
       "    <tr>\n",
       "      <th>cons.price.idx</th>\n",
       "      <td>93.58</td>\n",
       "      <td>0.58</td>\n",
       "      <td>92.20</td>\n",
       "      <td>93.08</td>\n",
       "      <td>93.75</td>\n",
       "      <td>93.99</td>\n",
       "      <td>94.77</td>\n",
       "    </tr>\n",
       "    <tr>\n",
       "      <th>euribor3m</th>\n",
       "      <td>3.62</td>\n",
       "      <td>1.73</td>\n",
       "      <td>0.63</td>\n",
       "      <td>1.34</td>\n",
       "      <td>4.86</td>\n",
       "      <td>4.96</td>\n",
       "      <td>5.04</td>\n",
       "    </tr>\n",
       "    <tr>\n",
       "      <th>campaign</th>\n",
       "      <td>2.57</td>\n",
       "      <td>2.77</td>\n",
       "      <td>1.00</td>\n",
       "      <td>1.00</td>\n",
       "      <td>2.00</td>\n",
       "      <td>3.00</td>\n",
       "      <td>56.00</td>\n",
       "    </tr>\n",
       "    <tr>\n",
       "      <th>deposit</th>\n",
       "      <td>0.11</td>\n",
       "      <td>0.32</td>\n",
       "      <td>0.00</td>\n",
       "      <td>0.00</td>\n",
       "      <td>0.00</td>\n",
       "      <td>0.00</td>\n",
       "      <td>1.00</td>\n",
       "    </tr>\n",
       "  </tbody>\n",
       "</table>\n",
       "</div>"
      ],
      "text/plain": [
       "                 Mean  Standard Deviation  Minimum     Q1  Median     Q3  \\\n",
       "age             40.02               10.42    17.00  32.00   38.00  47.00   \n",
       "cons.price.idx  93.58                0.58    92.20  93.08   93.75  93.99   \n",
       "euribor3m        3.62                1.73     0.63   1.34    4.86   4.96   \n",
       "campaign         2.57                2.77     1.00   1.00    2.00   3.00   \n",
       "deposit          0.11                0.32     0.00   0.00    0.00   0.00   \n",
       "\n",
       "                Maximum  \n",
       "age               98.00  \n",
       "cons.price.idx    94.77  \n",
       "euribor3m          5.04  \n",
       "campaign          56.00  \n",
       "deposit            1.00  "
      ]
     },
     "execution_count": 32,
     "metadata": {},
     "output_type": "execute_result"
    }
   ],
   "source": [
    "summary_stats = round(data.describe().T,2)\n",
    "summary_stats.drop(['count'], axis=1, inplace=True)\n",
    "summary_stats.rename (columns={'mean':'Mean', 'std': 'Standard Deviation', 'min': 'Minimum', \\\n",
    "                               '25%':'Q1', '50%': 'Median', '75%':'Q3', 'max':'Maximum'}, inplace=True)\n",
    "summary_stats"
   ]
  },
  {
   "cell_type": "code",
   "execution_count": 33,
   "id": "bd6e7f0d",
   "metadata": {},
   "outputs": [
    {
     "data": {
      "image/png": "[encoded data removed]",
      "text/plain": [
       "<Figure size 1080x5760 with 3 Axes>"
      ]
     },
     "metadata": {
      "needs_background": "light"
     },
     "output_type": "display_data"
    }
   ],
   "source": [
    "name = ['age', 'cons.price.idx', 'campaign']\n",
    "fig = plt.figure(figsize = (15,80))\n",
    "plotnumber =1\n",
    "for feature in name:\n",
    "    ax = plt.subplot(12,3,plotnumber)\n",
    "    plt.hist(data[feature], bins = 100)\n",
    "    plt.xlabel(feature)\n",
    "    plotnumber+=1\n",
    "plt.show()"
   ]
  },
  {
   "cell_type": "markdown",
   "id": "15b389b9",
   "metadata": {},
   "source": [
    "# Standardized data"
   ]
  },
  {
   "cell_type": "code",
   "execution_count": 34,
   "id": "1f558108",
   "metadata": {},
   "outputs": [],
   "source": [
    "# Computing IQR\n",
    "Q1 = data['age'].quantile(0.25)\n",
    "Q3 = data['age'].quantile(0.75)\n",
    "IQR = Q3-Q1\n",
    "\n",
    "lower_bound = Q1-(1.5*IQR)\n",
    "upper_bound = Q3+(1.5*IQR)\n",
    "\n",
    "outliersData = data.loc[(data['age'] < lower_bound) | (data['age'] > upper_bound)]"
   ]
  },
  {
   "cell_type": "code",
   "execution_count": 35,
   "id": "681565fc",
   "metadata": {},
   "outputs": [],
   "source": [
    "idxAge = outliersData.index"
   ]
  },
  {
   "cell_type": "code",
   "execution_count": 36,
   "id": "b3f4916a",
   "metadata": {},
   "outputs": [
    {
     "name": "stderr",
     "output_type": "stream",
     "text": [
      "C:\\Users\\ACER\\AppData\\Local\\Temp\\ipykernel_11980\\1012463702.py:1: SettingWithCopyWarning: \n",
      "A value is trying to be set on a copy of a slice from a DataFrame\n",
      "\n",
      "See the caveats in the documentation: https://pandas.pydata.org/pandas-docs/stable/user_guide/indexing.html#returning-a-view-versus-a-copy\n",
      "  data.drop(idxAge, axis = 0, inplace = True)\n"
     ]
    }
   ],
   "source": [
    "data.drop(idxAge, axis = 0, inplace = True)"
   ]
  },
  {
   "cell_type": "code",
   "execution_count": 37,
   "id": "6e6e4589",
   "metadata": {},
   "outputs": [
    {
     "name": "stderr",
     "output_type": "stream",
     "text": [
      "E:\\Anaconda\\lib\\site-packages\\seaborn\\_decorators.py:36: FutureWarning: Pass the following variable as a keyword arg: x. From version 0.12, the only valid positional argument will be `data`, and passing other arguments without an explicit keyword will result in an error or misinterpretation.\n",
      "  warnings.warn(\n"
     ]
    },
    {
     "data": {
      "image/png": "[encoded data removed]",
      "text/plain": [
       "<Figure size 1440x504 with 2 Axes>"
      ]
     },
     "metadata": {
      "needs_background": "light"
     },
     "output_type": "display_data"
    }
   ],
   "source": [
    "fig = plt.figure(figsize = (20,7))\n",
    "plt.subplot(1,2,1)\n",
    "plt.hist(data['age'])\n",
    "plt.subplot(1,2,2)\n",
    "sns.boxplot(data['age'])\n",
    "plt.show()"
   ]
  },
  {
   "cell_type": "code",
   "execution_count": 38,
   "id": "f3467388",
   "metadata": {},
   "outputs": [
    {
     "data": {
      "image/png": "[encoded data removed]",
      "text/plain": [
       "<Figure size 1080x576 with 1 Axes>"
      ]
     },
     "metadata": {
      "needs_background": "light"
     },
     "output_type": "display_data"
    }
   ],
   "source": [
    "campaign_age = data.groupby('age', as_index=False)['campaign'].sum()\n",
    "fig = plt.figure(figsize = (15,8))\n",
    "plt.barh(campaign_age['age'], campaign_age['campaign'])\n",
    "plt.xlabel(\"Campaign\")\n",
    "plt.ylabel(\"Age\")\n",
    "plt.title(\"Marketing Campaigns by Age\")\n",
    "plt.show()"
   ]
  },
  {
   "cell_type": "markdown",
   "id": "0d4374f3",
   "metadata": {},
   "source": [
    "## Correlation coefficient"
   ]
  },
  {
   "cell_type": "code",
   "execution_count": 39,
   "id": "cd032a23",
   "metadata": {},
   "outputs": [
    {
     "data": {
      "text/html": [
       "<div>\n",
       "<style scoped>\n",
       "    .dataframe tbody tr th:only-of-type {\n",
       "        vertical-align: middle;\n",
       "    }\n",
       "\n",
       "    .dataframe tbody tr th {\n",
       "        vertical-align: top;\n",
       "    }\n",
       "\n",
       "    .dataframe thead th {\n",
       "        text-align: right;\n",
       "    }\n",
       "</style>\n",
       "<table border=\"1\" class=\"dataframe\">\n",
       "  <thead>\n",
       "    <tr style=\"text-align: right;\">\n",
       "      <th></th>\n",
       "      <th>age</th>\n",
       "      <th>job</th>\n",
       "      <th>marital</th>\n",
       "      <th>education</th>\n",
       "      <th>default</th>\n",
       "      <th>month</th>\n",
       "      <th>cons.price.idx</th>\n",
       "      <th>euribor3m</th>\n",
       "      <th>campaign</th>\n",
       "      <th>poutcome</th>\n",
       "      <th>deposit</th>\n",
       "      <th>group_age</th>\n",
       "    </tr>\n",
       "  </thead>\n",
       "  <tbody>\n",
       "    <tr>\n",
       "      <th>0</th>\n",
       "      <td>56</td>\n",
       "      <td>housemaid</td>\n",
       "      <td>married</td>\n",
       "      <td>basic.4y</td>\n",
       "      <td>no</td>\n",
       "      <td>may</td>\n",
       "      <td>93.994</td>\n",
       "      <td>4.857</td>\n",
       "      <td>1</td>\n",
       "      <td>nonexistent</td>\n",
       "      <td>0</td>\n",
       "      <td>55-60</td>\n",
       "    </tr>\n",
       "    <tr>\n",
       "      <th>1</th>\n",
       "      <td>57</td>\n",
       "      <td>services</td>\n",
       "      <td>married</td>\n",
       "      <td>high.school</td>\n",
       "      <td>unknown</td>\n",
       "      <td>may</td>\n",
       "      <td>93.994</td>\n",
       "      <td>4.857</td>\n",
       "      <td>1</td>\n",
       "      <td>nonexistent</td>\n",
       "      <td>0</td>\n",
       "      <td>55-60</td>\n",
       "    </tr>\n",
       "    <tr>\n",
       "      <th>2</th>\n",
       "      <td>37</td>\n",
       "      <td>services</td>\n",
       "      <td>married</td>\n",
       "      <td>high.school</td>\n",
       "      <td>no</td>\n",
       "      <td>may</td>\n",
       "      <td>93.994</td>\n",
       "      <td>4.857</td>\n",
       "      <td>1</td>\n",
       "      <td>nonexistent</td>\n",
       "      <td>0</td>\n",
       "      <td>35-40</td>\n",
       "    </tr>\n",
       "    <tr>\n",
       "      <th>3</th>\n",
       "      <td>40</td>\n",
       "      <td>admin.</td>\n",
       "      <td>married</td>\n",
       "      <td>basic.6y</td>\n",
       "      <td>no</td>\n",
       "      <td>may</td>\n",
       "      <td>93.994</td>\n",
       "      <td>4.857</td>\n",
       "      <td>1</td>\n",
       "      <td>nonexistent</td>\n",
       "      <td>0</td>\n",
       "      <td>40-45</td>\n",
       "    </tr>\n",
       "    <tr>\n",
       "      <th>4</th>\n",
       "      <td>56</td>\n",
       "      <td>services</td>\n",
       "      <td>married</td>\n",
       "      <td>high.school</td>\n",
       "      <td>no</td>\n",
       "      <td>may</td>\n",
       "      <td>93.994</td>\n",
       "      <td>4.857</td>\n",
       "      <td>1</td>\n",
       "      <td>nonexistent</td>\n",
       "      <td>0</td>\n",
       "      <td>55-60</td>\n",
       "    </tr>\n",
       "  </tbody>\n",
       "</table>\n",
       "</div>"
      ],
      "text/plain": [
       "   age        job  marital    education  default month  cons.price.idx  \\\n",
       "0   56  housemaid  married     basic.4y       no   may          93.994   \n",
       "1   57   services  married  high.school  unknown   may          93.994   \n",
       "2   37   services  married  high.school       no   may          93.994   \n",
       "3   40     admin.  married     basic.6y       no   may          93.994   \n",
       "4   56   services  married  high.school       no   may          93.994   \n",
       "\n",
       "   euribor3m  campaign     poutcome  deposit group_age  \n",
       "0      4.857         1  nonexistent        0     55-60  \n",
       "1      4.857         1  nonexistent        0     55-60  \n",
       "2      4.857         1  nonexistent        0     35-40  \n",
       "3      4.857         1  nonexistent        0     40-45  \n",
       "4      4.857         1  nonexistent        0     55-60  "
      ]
     },
     "execution_count": 39,
     "metadata": {},
     "output_type": "execute_result"
    }
   ],
   "source": [
    "data.head()"
   ]
  },
  {
   "cell_type": "code",
   "execution_count": 41,
   "id": "71a23814",
   "metadata": {},
   "outputs": [
    {
     "data": {
      "image/png": "[encoded data removed]",
      "text/plain": [
       "<Figure size 432x288 with 2 Axes>"
      ]
     },
     "metadata": {
      "needs_background": "light"
     },
     "output_type": "display_data"
    }
   ],
   "source": [
    "# plotting correlation heatmap\n",
    "dataplot = sns.heatmap(data[['age', 'cons.price.idx', 'euribor3m', 'campaign', 'deposit']].corr(), cmap=\"Blues\", annot=True)\n",
    "  \n",
    "# displaying heatmap\n",
    "plt.show()"
   ]
  },
  {
   "cell_type": "markdown",
   "id": "8134a200",
   "metadata": {},
   "source": [
    "# Building model predict"
   ]
  },
  {
   "cell_type": "code",
   "execution_count": 42,
   "id": "ffb98237",
   "metadata": {},
   "outputs": [
    {
     "data": {
      "text/html": [
       "<div>\n",
       "<style scoped>\n",
       "    .dataframe tbody tr th:only-of-type {\n",
       "        vertical-align: middle;\n",
       "    }\n",
       "\n",
       "    .dataframe tbody tr th {\n",
       "        vertical-align: top;\n",
       "    }\n",
       "\n",
       "    .dataframe thead th {\n",
       "        text-align: right;\n",
       "    }\n",
       "</style>\n",
       "<table border=\"1\" class=\"dataframe\">\n",
       "  <thead>\n",
       "    <tr style=\"text-align: right;\">\n",
       "      <th></th>\n",
       "      <th>Name Columns</th>\n",
       "      <th>Total row</th>\n",
       "      <th>type col</th>\n",
       "      <th>Total unique</th>\n",
       "      <th>Total miss val</th>\n",
       "      <th>percentage missing value</th>\n",
       "    </tr>\n",
       "  </thead>\n",
       "  <tbody>\n",
       "    <tr>\n",
       "      <th>0</th>\n",
       "      <td>age</td>\n",
       "      <td>40719</td>\n",
       "      <td>int64</td>\n",
       "      <td>53</td>\n",
       "      <td>0</td>\n",
       "      <td>0.0</td>\n",
       "    </tr>\n",
       "    <tr>\n",
       "      <th>1</th>\n",
       "      <td>job</td>\n",
       "      <td>40719</td>\n",
       "      <td>object</td>\n",
       "      <td>12</td>\n",
       "      <td>0</td>\n",
       "      <td>0.0</td>\n",
       "    </tr>\n",
       "    <tr>\n",
       "      <th>2</th>\n",
       "      <td>marital</td>\n",
       "      <td>40719</td>\n",
       "      <td>object</td>\n",
       "      <td>4</td>\n",
       "      <td>0</td>\n",
       "      <td>0.0</td>\n",
       "    </tr>\n",
       "    <tr>\n",
       "      <th>3</th>\n",
       "      <td>education</td>\n",
       "      <td>40719</td>\n",
       "      <td>object</td>\n",
       "      <td>8</td>\n",
       "      <td>0</td>\n",
       "      <td>0.0</td>\n",
       "    </tr>\n",
       "    <tr>\n",
       "      <th>4</th>\n",
       "      <td>default</td>\n",
       "      <td>40719</td>\n",
       "      <td>object</td>\n",
       "      <td>3</td>\n",
       "      <td>0</td>\n",
       "      <td>0.0</td>\n",
       "    </tr>\n",
       "    <tr>\n",
       "      <th>5</th>\n",
       "      <td>month</td>\n",
       "      <td>40719</td>\n",
       "      <td>object</td>\n",
       "      <td>10</td>\n",
       "      <td>0</td>\n",
       "      <td>0.0</td>\n",
       "    </tr>\n",
       "    <tr>\n",
       "      <th>6</th>\n",
       "      <td>cons.price.idx</td>\n",
       "      <td>40719</td>\n",
       "      <td>float64</td>\n",
       "      <td>26</td>\n",
       "      <td>0</td>\n",
       "      <td>0.0</td>\n",
       "    </tr>\n",
       "    <tr>\n",
       "      <th>7</th>\n",
       "      <td>euribor3m</td>\n",
       "      <td>40719</td>\n",
       "      <td>float64</td>\n",
       "      <td>316</td>\n",
       "      <td>0</td>\n",
       "      <td>0.0</td>\n",
       "    </tr>\n",
       "    <tr>\n",
       "      <th>8</th>\n",
       "      <td>campaign</td>\n",
       "      <td>40719</td>\n",
       "      <td>int64</td>\n",
       "      <td>42</td>\n",
       "      <td>0</td>\n",
       "      <td>0.0</td>\n",
       "    </tr>\n",
       "    <tr>\n",
       "      <th>9</th>\n",
       "      <td>poutcome</td>\n",
       "      <td>40719</td>\n",
       "      <td>object</td>\n",
       "      <td>3</td>\n",
       "      <td>0</td>\n",
       "      <td>0.0</td>\n",
       "    </tr>\n",
       "    <tr>\n",
       "      <th>10</th>\n",
       "      <td>deposit</td>\n",
       "      <td>40719</td>\n",
       "      <td>int64</td>\n",
       "      <td>2</td>\n",
       "      <td>0</td>\n",
       "      <td>0.0</td>\n",
       "    </tr>\n",
       "    <tr>\n",
       "      <th>11</th>\n",
       "      <td>group_age</td>\n",
       "      <td>40719</td>\n",
       "      <td>object</td>\n",
       "      <td>12</td>\n",
       "      <td>0</td>\n",
       "      <td>0.0</td>\n",
       "    </tr>\n",
       "  </tbody>\n",
       "</table>\n",
       "</div>"
      ],
      "text/plain": [
       "      Name Columns  Total row type col  Total unique  Total miss val  \\\n",
       "0              age      40719    int64            53               0   \n",
       "1              job      40719   object            12               0   \n",
       "2          marital      40719   object             4               0   \n",
       "3        education      40719   object             8               0   \n",
       "4          default      40719   object             3               0   \n",
       "5            month      40719   object            10               0   \n",
       "6   cons.price.idx      40719  float64            26               0   \n",
       "7        euribor3m      40719  float64           316               0   \n",
       "8         campaign      40719    int64            42               0   \n",
       "9         poutcome      40719   object             3               0   \n",
       "10         deposit      40719    int64             2               0   \n",
       "11       group_age      40719   object            12               0   \n",
       "\n",
       "    percentage missing value  \n",
       "0                        0.0  \n",
       "1                        0.0  \n",
       "2                        0.0  \n",
       "3                        0.0  \n",
       "4                        0.0  \n",
       "5                        0.0  \n",
       "6                        0.0  \n",
       "7                        0.0  \n",
       "8                        0.0  \n",
       "9                        0.0  \n",
       "10                       0.0  \n",
       "11                       0.0  "
      ]
     },
     "execution_count": 42,
     "metadata": {},
     "output_type": "execute_result"
    }
   ],
   "source": [
    "missing_value(data)"
   ]
  },
  {
   "cell_type": "code",
   "execution_count": 43,
   "id": "751fe47e",
   "metadata": {},
   "outputs": [],
   "source": [
    "def convertStringToNumber(name, df):\n",
    "    for n in name:\n",
    "        x = df[n].unique()\n",
    "        for i in range(len(x)):\n",
    "            df[n] = df[n].replace(to_replace=x[i], value=i)"
   ]
  },
  {
   "cell_type": "code",
   "execution_count": 44,
   "id": "a71caf18",
   "metadata": {},
   "outputs": [
    {
     "name": "stderr",
     "output_type": "stream",
     "text": [
      "C:\\Users\\ACER\\AppData\\Local\\Temp\\ipykernel_11980\\2161959620.py:5: SettingWithCopyWarning: \n",
      "A value is trying to be set on a copy of a slice from a DataFrame.\n",
      "Try using .loc[row_indexer,col_indexer] = value instead\n",
      "\n",
      "See the caveats in the documentation: https://pandas.pydata.org/pandas-docs/stable/user_guide/indexing.html#returning-a-view-versus-a-copy\n",
      "  df[n] = df[n].replace(to_replace=x[i], value=i)\n"
     ]
    }
   ],
   "source": [
    "obj = ['job', 'marital', 'education', 'default', 'poutcome']\n",
    "convertStringToNumber(obj, data)"
   ]
  },
  {
   "cell_type": "code",
   "execution_count": 45,
   "id": "8f890946",
   "metadata": {},
   "outputs": [
    {
     "name": "stderr",
     "output_type": "stream",
     "text": [
      "C:\\Users\\ACER\\AppData\\Local\\Temp\\ipykernel_11980\\4065979314.py:6: SettingWithCopyWarning: \n",
      "A value is trying to be set on a copy of a slice from a DataFrame.\n",
      "Try using .loc[row_indexer,col_indexer] = value instead\n",
      "\n",
      "See the caveats in the documentation: https://pandas.pydata.org/pandas-docs/stable/user_guide/indexing.html#returning-a-view-versus-a-copy\n",
      "  data['month'] = data.month.map(dict(dict_month))\n"
     ]
    }
   ],
   "source": [
    "dict_month = {'may': 5,\n",
    "              'jun': 6,\n",
    "              'jul': 7,\n",
    "               'aug': 8,\n",
    "              'oct': 10, 'nov': 11, 'dec': 12, 'mar': 3, 'apr': 4, 'sep': 9 }\n",
    "data['month'] = data.month.map(dict(dict_month))"
   ]
  },
  {
   "cell_type": "code",
   "execution_count": 46,
   "id": "c9cb7074",
   "metadata": {},
   "outputs": [
    {
     "name": "stderr",
     "output_type": "stream",
     "text": [
      "C:\\Users\\ACER\\AppData\\Local\\Temp\\ipykernel_11980\\1186251292.py:1: SettingWithCopyWarning: \n",
      "A value is trying to be set on a copy of a slice from a DataFrame\n",
      "\n",
      "See the caveats in the documentation: https://pandas.pydata.org/pandas-docs/stable/user_guide/indexing.html#returning-a-view-versus-a-copy\n",
      "  data.drop(['group_age'], axis = 1, inplace = True)\n"
     ]
    }
   ],
   "source": [
    "data.drop(['group_age'], axis = 1, inplace = True)"
   ]
  },
  {
   "cell_type": "code",
   "execution_count": 47,
   "id": "64294b8b",
   "metadata": {},
   "outputs": [
    {
     "data": {
      "text/html": [
       "<div>\n",
       "<style scoped>\n",
       "    .dataframe tbody tr th:only-of-type {\n",
       "        vertical-align: middle;\n",
       "    }\n",
       "\n",
       "    .dataframe tbody tr th {\n",
       "        vertical-align: top;\n",
       "    }\n",
       "\n",
       "    .dataframe thead th {\n",
       "        text-align: right;\n",
       "    }\n",
       "</style>\n",
       "<table border=\"1\" class=\"dataframe\">\n",
       "  <thead>\n",
       "    <tr style=\"text-align: right;\">\n",
       "      <th></th>\n",
       "      <th>age</th>\n",
       "      <th>job</th>\n",
       "      <th>marital</th>\n",
       "      <th>education</th>\n",
       "      <th>default</th>\n",
       "      <th>month</th>\n",
       "      <th>cons.price.idx</th>\n",
       "      <th>euribor3m</th>\n",
       "      <th>campaign</th>\n",
       "      <th>poutcome</th>\n",
       "      <th>deposit</th>\n",
       "    </tr>\n",
       "  </thead>\n",
       "  <tbody>\n",
       "    <tr>\n",
       "      <th>0</th>\n",
       "      <td>56</td>\n",
       "      <td>0</td>\n",
       "      <td>0</td>\n",
       "      <td>0</td>\n",
       "      <td>0</td>\n",
       "      <td>5</td>\n",
       "      <td>93.994</td>\n",
       "      <td>4.857</td>\n",
       "      <td>1</td>\n",
       "      <td>0</td>\n",
       "      <td>0</td>\n",
       "    </tr>\n",
       "    <tr>\n",
       "      <th>1</th>\n",
       "      <td>57</td>\n",
       "      <td>1</td>\n",
       "      <td>0</td>\n",
       "      <td>1</td>\n",
       "      <td>1</td>\n",
       "      <td>5</td>\n",
       "      <td>93.994</td>\n",
       "      <td>4.857</td>\n",
       "      <td>1</td>\n",
       "      <td>0</td>\n",
       "      <td>0</td>\n",
       "    </tr>\n",
       "    <tr>\n",
       "      <th>2</th>\n",
       "      <td>37</td>\n",
       "      <td>1</td>\n",
       "      <td>0</td>\n",
       "      <td>1</td>\n",
       "      <td>0</td>\n",
       "      <td>5</td>\n",
       "      <td>93.994</td>\n",
       "      <td>4.857</td>\n",
       "      <td>1</td>\n",
       "      <td>0</td>\n",
       "      <td>0</td>\n",
       "    </tr>\n",
       "    <tr>\n",
       "      <th>3</th>\n",
       "      <td>40</td>\n",
       "      <td>2</td>\n",
       "      <td>0</td>\n",
       "      <td>2</td>\n",
       "      <td>0</td>\n",
       "      <td>5</td>\n",
       "      <td>93.994</td>\n",
       "      <td>4.857</td>\n",
       "      <td>1</td>\n",
       "      <td>0</td>\n",
       "      <td>0</td>\n",
       "    </tr>\n",
       "    <tr>\n",
       "      <th>4</th>\n",
       "      <td>56</td>\n",
       "      <td>1</td>\n",
       "      <td>0</td>\n",
       "      <td>1</td>\n",
       "      <td>0</td>\n",
       "      <td>5</td>\n",
       "      <td>93.994</td>\n",
       "      <td>4.857</td>\n",
       "      <td>1</td>\n",
       "      <td>0</td>\n",
       "      <td>0</td>\n",
       "    </tr>\n",
       "  </tbody>\n",
       "</table>\n",
       "</div>"
      ],
      "text/plain": [
       "   age  job  marital  education  default  month  cons.price.idx  euribor3m  \\\n",
       "0   56    0        0          0        0      5          93.994      4.857   \n",
       "1   57    1        0          1        1      5          93.994      4.857   \n",
       "2   37    1        0          1        0      5          93.994      4.857   \n",
       "3   40    2        0          2        0      5          93.994      4.857   \n",
       "4   56    1        0          1        0      5          93.994      4.857   \n",
       "\n",
       "   campaign  poutcome  deposit  \n",
       "0         1         0        0  \n",
       "1         1         0        0  \n",
       "2         1         0        0  \n",
       "3         1         0        0  \n",
       "4         1         0        0  "
      ]
     },
     "execution_count": 47,
     "metadata": {},
     "output_type": "execute_result"
    }
   ],
   "source": [
    "data.head()"
   ]
  },
  {
   "cell_type": "code",
   "execution_count": 49,
   "id": "6125f3e6",
   "metadata": {},
   "outputs": [
    {
     "data": {
      "text/html": [
       "<div>\n",
       "<style scoped>\n",
       "    .dataframe tbody tr th:only-of-type {\n",
       "        vertical-align: middle;\n",
       "    }\n",
       "\n",
       "    .dataframe tbody tr th {\n",
       "        vertical-align: top;\n",
       "    }\n",
       "\n",
       "    .dataframe thead th {\n",
       "        text-align: right;\n",
       "    }\n",
       "</style>\n",
       "<table border=\"1\" class=\"dataframe\">\n",
       "  <thead>\n",
       "    <tr style=\"text-align: right;\">\n",
       "      <th></th>\n",
       "      <th>Name Columns</th>\n",
       "      <th>Total row</th>\n",
       "      <th>type col</th>\n",
       "      <th>Total unique</th>\n",
       "      <th>Total miss val</th>\n",
       "      <th>percentage missing value</th>\n",
       "    </tr>\n",
       "  </thead>\n",
       "  <tbody>\n",
       "    <tr>\n",
       "      <th>0</th>\n",
       "      <td>age</td>\n",
       "      <td>40719</td>\n",
       "      <td>int64</td>\n",
       "      <td>53</td>\n",
       "      <td>0</td>\n",
       "      <td>0.0</td>\n",
       "    </tr>\n",
       "    <tr>\n",
       "      <th>1</th>\n",
       "      <td>job</td>\n",
       "      <td>40719</td>\n",
       "      <td>int64</td>\n",
       "      <td>12</td>\n",
       "      <td>0</td>\n",
       "      <td>0.0</td>\n",
       "    </tr>\n",
       "    <tr>\n",
       "      <th>2</th>\n",
       "      <td>marital</td>\n",
       "      <td>40719</td>\n",
       "      <td>int64</td>\n",
       "      <td>4</td>\n",
       "      <td>0</td>\n",
       "      <td>0.0</td>\n",
       "    </tr>\n",
       "    <tr>\n",
       "      <th>3</th>\n",
       "      <td>education</td>\n",
       "      <td>40719</td>\n",
       "      <td>int64</td>\n",
       "      <td>8</td>\n",
       "      <td>0</td>\n",
       "      <td>0.0</td>\n",
       "    </tr>\n",
       "    <tr>\n",
       "      <th>4</th>\n",
       "      <td>default</td>\n",
       "      <td>40719</td>\n",
       "      <td>int64</td>\n",
       "      <td>3</td>\n",
       "      <td>0</td>\n",
       "      <td>0.0</td>\n",
       "    </tr>\n",
       "    <tr>\n",
       "      <th>5</th>\n",
       "      <td>month</td>\n",
       "      <td>40719</td>\n",
       "      <td>int64</td>\n",
       "      <td>10</td>\n",
       "      <td>0</td>\n",
       "      <td>0.0</td>\n",
       "    </tr>\n",
       "    <tr>\n",
       "      <th>6</th>\n",
       "      <td>cons.price.idx</td>\n",
       "      <td>40719</td>\n",
       "      <td>float64</td>\n",
       "      <td>26</td>\n",
       "      <td>0</td>\n",
       "      <td>0.0</td>\n",
       "    </tr>\n",
       "    <tr>\n",
       "      <th>7</th>\n",
       "      <td>euribor3m</td>\n",
       "      <td>40719</td>\n",
       "      <td>float64</td>\n",
       "      <td>316</td>\n",
       "      <td>0</td>\n",
       "      <td>0.0</td>\n",
       "    </tr>\n",
       "    <tr>\n",
       "      <th>8</th>\n",
       "      <td>campaign</td>\n",
       "      <td>40719</td>\n",
       "      <td>int64</td>\n",
       "      <td>42</td>\n",
       "      <td>0</td>\n",
       "      <td>0.0</td>\n",
       "    </tr>\n",
       "    <tr>\n",
       "      <th>9</th>\n",
       "      <td>poutcome</td>\n",
       "      <td>40719</td>\n",
       "      <td>int64</td>\n",
       "      <td>3</td>\n",
       "      <td>0</td>\n",
       "      <td>0.0</td>\n",
       "    </tr>\n",
       "    <tr>\n",
       "      <th>10</th>\n",
       "      <td>deposit</td>\n",
       "      <td>40719</td>\n",
       "      <td>int64</td>\n",
       "      <td>2</td>\n",
       "      <td>0</td>\n",
       "      <td>0.0</td>\n",
       "    </tr>\n",
       "  </tbody>\n",
       "</table>\n",
       "</div>"
      ],
      "text/plain": [
       "      Name Columns  Total row type col  Total unique  Total miss val  \\\n",
       "0              age      40719    int64            53               0   \n",
       "1              job      40719    int64            12               0   \n",
       "2          marital      40719    int64             4               0   \n",
       "3        education      40719    int64             8               0   \n",
       "4          default      40719    int64             3               0   \n",
       "5            month      40719    int64            10               0   \n",
       "6   cons.price.idx      40719  float64            26               0   \n",
       "7        euribor3m      40719  float64           316               0   \n",
       "8         campaign      40719    int64            42               0   \n",
       "9         poutcome      40719    int64             3               0   \n",
       "10         deposit      40719    int64             2               0   \n",
       "\n",
       "    percentage missing value  \n",
       "0                        0.0  \n",
       "1                        0.0  \n",
       "2                        0.0  \n",
       "3                        0.0  \n",
       "4                        0.0  \n",
       "5                        0.0  \n",
       "6                        0.0  \n",
       "7                        0.0  \n",
       "8                        0.0  \n",
       "9                        0.0  \n",
       "10                       0.0  "
      ]
     },
     "execution_count": 49,
     "metadata": {},
     "output_type": "execute_result"
    }
   ],
   "source": [
    "missing_value(data)"
   ]
  },
  {
   "cell_type": "code",
   "execution_count": 50,
   "id": "0a1619e9",
   "metadata": {},
   "outputs": [
    {
     "name": "stderr",
     "output_type": "stream",
     "text": [
      "C:\\Users\\ACER\\AppData\\Local\\Temp\\ipykernel_11980\\339833404.py:1: SettingWithCopyWarning: \n",
      "A value is trying to be set on a copy of a slice from a DataFrame\n",
      "\n",
      "See the caveats in the documentation: https://pandas.pydata.org/pandas-docs/stable/user_guide/indexing.html#returning-a-view-versus-a-copy\n",
      "  data.dropna(inplace = True)\n"
     ]
    }
   ],
   "source": [
    "data.dropna(inplace = True)"
   ]
  },
  {
   "cell_type": "code",
   "execution_count": 51,
   "id": "f67b0881",
   "metadata": {},
   "outputs": [],
   "source": [
    "from sklearn.model_selection import train_test_split"
   ]
  },
  {
   "cell_type": "code",
   "execution_count": 52,
   "id": "649715e0",
   "metadata": {},
   "outputs": [],
   "source": [
    "X = data.drop('deposit', axis = 1)\n",
    "y = data['deposit']"
   ]
  },
  {
   "cell_type": "code",
   "execution_count": 53,
   "id": "8d5be933",
   "metadata": {},
   "outputs": [
    {
     "name": "stdout",
     "output_type": "stream",
     "text": [
      "(32575, 10) (8144, 10) (32575,) (8144,)\n"
     ]
    }
   ],
   "source": [
    "X_train, X_test, y_train,y_test = train_test_split(X, y, test_size=0.2, random_state=42)\n",
    "print(X_train.shape,X_test.shape, y_train.shape,y_test.shape )"
   ]
  },
  {
   "cell_type": "markdown",
   "id": "118699fe",
   "metadata": {},
   "source": [
    "# Decision tree"
   ]
  },
  {
   "cell_type": "code",
   "execution_count": 54,
   "id": "a3bea7f7",
   "metadata": {},
   "outputs": [],
   "source": [
    "from sklearn.tree import DecisionTreeClassifier\n",
    "# Create Decision Tree classifer object\n",
    "clf = DecisionTreeClassifier()\n",
    "\n",
    "# Train Decision Tree Classifer\n",
    "clf = clf.fit(X_train,y_train)\n",
    "\n",
    "#Predict the response for test dataset\n",
    "y_pred = clf.predict(X_test)"
   ]
  },
  {
   "cell_type": "code",
   "execution_count": 55,
   "id": "3fbd9dc6",
   "metadata": {},
   "outputs": [
    {
     "name": "stdout",
     "output_type": "stream",
     "text": [
      "Accuracy: 0.849705304518664\n"
     ]
    }
   ],
   "source": [
    "# Model Accuracy, how often is the classifier correct?\n",
    "decision = metrics.accuracy_score(y_test, y_pred)\n",
    "print(\"Accuracy:\", decision)"
   ]
  },
  {
   "cell_type": "code",
   "execution_count": 57,
   "id": "cac27d3f",
   "metadata": {},
   "outputs": [
    {
     "name": "stdout",
     "output_type": "stream",
     "text": [
      "              precision    recall  f1-score   support\n",
      "\n",
      "           0       0.92      0.91      0.92      7254\n",
      "           1       0.32      0.34      0.33       890\n",
      "\n",
      "    accuracy                           0.85      8144\n",
      "   macro avg       0.62      0.63      0.62      8144\n",
      "weighted avg       0.85      0.85      0.85      8144\n",
      "\n"
     ]
    },
    {
     "data": {
      "image/png": "[encoded data removed]",
      "text/plain": [
       "<Figure size 432x288 with 2 Axes>"
      ]
     },
     "metadata": {
      "needs_background": "light"
     },
     "output_type": "display_data"
    }
   ],
   "source": [
    "print(classification_report(y_test,y_pred))\n",
    "\n",
    "confusion_knn=confusion_matrix(y_test,y_pred)\n",
    "sns.heatmap(confusion_knn,annot=True);"
   ]
  },
  {
   "cell_type": "markdown",
   "id": "ffe66232",
   "metadata": {},
   "source": [
    "# 2.Logistics regression"
   ]
  },
  {
   "cell_type": "code",
   "execution_count": 59,
   "id": "db3e998a",
   "metadata": {},
   "outputs": [],
   "source": [
    "from sklearn.linear_model import LogisticRegression"
   ]
  },
  {
   "cell_type": "code",
   "execution_count": 60,
   "id": "8edde2a8",
   "metadata": {},
   "outputs": [
    {
     "name": "stdout",
     "output_type": "stream",
     "text": [
      "Accuracy: 0.8947691552062869\n"
     ]
    },
    {
     "name": "stderr",
     "output_type": "stream",
     "text": [
      "E:\\Anaconda\\lib\\site-packages\\sklearn\\linear_model\\_logistic.py:814: ConvergenceWarning: lbfgs failed to converge (status=1):\n",
      "STOP: TOTAL NO. of ITERATIONS REACHED LIMIT.\n",
      "\n",
      "Increase the number of iterations (max_iter) or scale the data as shown in:\n",
      "    https://scikit-learn.org/stable/modules/preprocessing.html\n",
      "Please also refer to the documentation for alternative solver options:\n",
      "    https://scikit-learn.org/stable/modules/linear_model.html#logistic-regression\n",
      "  n_iter_i = _check_optimize_result(\n"
     ]
    }
   ],
   "source": [
    "modelLg = LogisticRegression()\n",
    "\n",
    "modelLg.fit(X_train,y_train)\n",
    "\n",
    "predLg = modelLg.predict(X_test)\n",
    "\n",
    "# Model Accuracy, how often is the classifier correct?\n",
    "lg =metrics.accuracy_score(y_test, predLg)\n",
    "print(\"Accuracy:\", lg)"
   ]
  },
  {
   "cell_type": "code",
   "execution_count": 62,
   "id": "83f6e459",
   "metadata": {},
   "outputs": [
    {
     "name": "stdout",
     "output_type": "stream",
     "text": [
      "              precision    recall  f1-score   support\n",
      "\n",
      "           0       0.90      1.00      0.94      7254\n",
      "           1       0.72      0.06      0.11       890\n",
      "\n",
      "    accuracy                           0.89      8144\n",
      "   macro avg       0.81      0.53      0.53      8144\n",
      "weighted avg       0.88      0.89      0.85      8144\n",
      "\n"
     ]
    },
    {
     "data": {
      "image/png": "[encoded data removed]",
      "text/plain": [
       "<Figure size 432x288 with 2 Axes>"
      ]
     },
     "metadata": {
      "needs_background": "light"
     },
     "output_type": "display_data"
    }
   ],
   "source": [
    "print(classification_report(y_test,predLg))\n",
    "\n",
    "confusion_Lg=confusion_matrix(y_test,predLg)\n",
    "sns.heatmap(confusion_Lg,annot=True);"
   ]
  },
  {
   "cell_type": "markdown",
   "id": "c7c0ea00",
   "metadata": {},
   "source": [
    "# 3. Support Vector Machines"
   ]
  },
  {
   "cell_type": "code",
   "execution_count": 63,
   "id": "2a8b2c75",
   "metadata": {},
   "outputs": [],
   "source": [
    "from sklearn import svm"
   ]
  },
  {
   "cell_type": "code",
   "execution_count": 64,
   "id": "d651dae5",
   "metadata": {},
   "outputs": [],
   "source": [
    "model_svm = svm.SVC()\n",
    "\n",
    "model_svm.fit(X_train,y_train)\n",
    "\n",
    "pred_svm = model_svm.predict(X_test)"
   ]
  },
  {
   "cell_type": "code",
   "execution_count": 65,
   "id": "70f0fcdd",
   "metadata": {},
   "outputs": [
    {
     "name": "stdout",
     "output_type": "stream",
     "text": [
      "Accuracy: 0.8907170923379175\n"
     ]
    }
   ],
   "source": [
    "# Model Accuracy\n",
    "svm = metrics.accuracy_score(y_test, pred_svm)\n",
    "print(\"Accuracy:\", svm)"
   ]
  },
  {
   "cell_type": "code",
   "execution_count": 67,
   "id": "6977d6c8",
   "metadata": {},
   "outputs": [
    {
     "name": "stderr",
     "output_type": "stream",
     "text": [
      "E:\\Anaconda\\lib\\site-packages\\sklearn\\metrics\\_classification.py:1318: UndefinedMetricWarning: Precision and F-score are ill-defined and being set to 0.0 in labels with no predicted samples. Use `zero_division` parameter to control this behavior.\n",
      "  _warn_prf(average, modifier, msg_start, len(result))\n",
      "E:\\Anaconda\\lib\\site-packages\\sklearn\\metrics\\_classification.py:1318: UndefinedMetricWarning: Precision and F-score are ill-defined and being set to 0.0 in labels with no predicted samples. Use `zero_division` parameter to control this behavior.\n",
      "  _warn_prf(average, modifier, msg_start, len(result))\n",
      "E:\\Anaconda\\lib\\site-packages\\sklearn\\metrics\\_classification.py:1318: UndefinedMetricWarning: Precision and F-score are ill-defined and being set to 0.0 in labels with no predicted samples. Use `zero_division` parameter to control this behavior.\n",
      "  _warn_prf(average, modifier, msg_start, len(result))\n"
     ]
    },
    {
     "name": "stdout",
     "output_type": "stream",
     "text": [
      "              precision    recall  f1-score   support\n",
      "\n",
      "           0       0.89      1.00      0.94      7254\n",
      "           1       0.00      0.00      0.00       890\n",
      "\n",
      "    accuracy                           0.89      8144\n",
      "   macro avg       0.45      0.50      0.47      8144\n",
      "weighted avg       0.79      0.89      0.84      8144\n",
      "\n"
     ]
    },
    {
     "data": {
      "image/png": "[encoded data removed]",
      "text/plain": [
       "<Figure size 432x288 with 2 Axes>"
      ]
     },
     "metadata": {
      "needs_background": "light"
     },
     "output_type": "display_data"
    }
   ],
   "source": [
    "print(classification_report(y_test,pred_svm))\n",
    "\n",
    "confusion_svm = confusion_matrix(y_test,pred_svm)\n",
    "sns.heatmap(confusion_knn,annot=True);"
   ]
  },
  {
   "cell_type": "markdown",
   "id": "3ba2a85c",
   "metadata": {},
   "source": [
    "# 4. KNN"
   ]
  },
  {
   "cell_type": "code",
   "execution_count": 68,
   "id": "fe740bee",
   "metadata": {},
   "outputs": [],
   "source": [
    "from sklearn.neighbors import KNeighborsClassifier"
   ]
  },
  {
   "cell_type": "code",
   "execution_count": 69,
   "id": "d2e8baab",
   "metadata": {},
   "outputs": [
    {
     "name": "stdout",
     "output_type": "stream",
     "text": [
      "[ 1  2  3  4  5  6  7  8  9 10 11 12] \n",
      " {1: 0.9844666155026861, 2: 0.922455871066769, 3: 0.923561013046815, 4: 0.9115886415963161, 5: 0.9127858787413661, 6: 0.9073522640061397, 7: 0.9083653108211819, 8: 0.9045894090560246, 9: 0.9048963929393706, 10: 0.9025019186492709, 11: 0.9032386799693016, 12: 0.9011818879508826} \n",
      " {1: 0.8484774066797642, 2: 0.887524557956778, 3: 0.8801571709233792, 4: 0.8902259332023575, 5: 0.8847003929273084, 6: 0.8904715127701375, 7: 0.8887524557956779, 8: 0.8915766208251473, 9: 0.8907170923379175, 10: 0.8913310412573674, 11: 0.8896119842829077, 12: 0.8918222003929273}\n"
     ]
    }
   ],
   "source": [
    "# Create neighbors\n",
    "neighbors = np.arange(1, 13)\n",
    "train_accuracies = {}\n",
    "test_accuracies = {}\n",
    "\n",
    "for neighbor in neighbors:\n",
    "  \n",
    "    # Set up a KNN Classifier\n",
    "    knn = KNeighborsClassifier(n_neighbors=neighbor)\n",
    "  \n",
    "    # Fit the model\n",
    "    knn.fit(X_train, y_train)\n",
    "  \n",
    "    # Compute accuracy\n",
    "    train_accuracies[neighbor] = knn.score(X_train, y_train)\n",
    "    test_accuracies[neighbor] = knn.score(X_test, y_test)\n",
    "print(neighbors, '\\n', train_accuracies, '\\n', test_accuracies)"
   ]
  },
  {
   "cell_type": "code",
   "execution_count": 71,
   "id": "91da238a",
   "metadata": {},
   "outputs": [
    {
     "data": {
      "image/png": "[encoded data removed]",
      "text/plain": [
       "<Figure size 432x288 with 1 Axes>"
      ]
     },
     "metadata": {
      "needs_background": "light"
     },
     "output_type": "display_data"
    }
   ],
   "source": [
    "# Add a title\n",
    "plt.title(\"KNN: Varying Number of Neighbors\")\n",
    "\n",
    "# Plot training accuracies\n",
    "plt.plot(list(neighbors), list(train_accuracies.values()), label=\"Training Accuracy\")\n",
    "\n",
    "# Plot test accuracies\n",
    "plt.plot(list(neighbors), list(test_accuracies.values()), label=\"Testing Accuracy\")\n",
    "\n",
    "plt.legend()\n",
    "plt.xlabel(\"Number of Neighbors\")\n",
    "plt.ylabel(\"Accuracy\")\n",
    "\n",
    "# Display the plot\n",
    "plt.show()"
   ]
  },
  {
   "cell_type": "code",
   "execution_count": 73,
   "id": "6aa4921b",
   "metadata": {},
   "outputs": [],
   "source": [
    "# Set up a KNN Classifier\n",
    "knn = KNeighborsClassifier(n_neighbors=2)\n",
    "\n",
    "knn.fit(X_train, y_train)\n",
    "\n",
    "predKnn = knn.predict(X_test)"
   ]
  },
  {
   "cell_type": "code",
   "execution_count": 74,
   "id": "2110be30",
   "metadata": {},
   "outputs": [
    {
     "name": "stdout",
     "output_type": "stream",
     "text": [
      "Accuracy: 0.887524557956778\n"
     ]
    }
   ],
   "source": [
    "# Model Accuracy, how often is the classifier correct?\n",
    "knn = metrics.accuracy_score(y_test, predKnn)\n",
    "print(\"Accuracy:\",knn)"
   ]
  },
  {
   "cell_type": "code",
   "execution_count": 76,
   "id": "88a29266",
   "metadata": {},
   "outputs": [
    {
     "name": "stdout",
     "output_type": "stream",
     "text": [
      "              precision    recall  f1-score   support\n",
      "\n",
      "           0       0.90      0.98      0.94      7254\n",
      "           1       0.44      0.11      0.17       890\n",
      "\n",
      "    accuracy                           0.89      8144\n",
      "   macro avg       0.67      0.55      0.56      8144\n",
      "weighted avg       0.85      0.89      0.86      8144\n",
      "\n"
     ]
    },
    {
     "data": {
      "image/png": "[encoded data removed]",
      "text/plain": [
       "<Figure size 432x288 with 2 Axes>"
      ]
     },
     "metadata": {
      "needs_background": "light"
     },
     "output_type": "display_data"
    }
   ],
   "source": [
    "print(classification_report(y_test,predKnn))\n",
    "\n",
    "confusion_knn=confusion_matrix(y_test,predKnn)\n",
    "sns.heatmap(confusion_knn,annot=True);"
   ]
  },
  {
   "cell_type": "markdown",
   "id": "f0e4c768",
   "metadata": {},
   "source": [
    "# 5. ANN"
   ]
  },
  {
   "cell_type": "code",
   "execution_count": 77,
   "id": "de036308",
   "metadata": {},
   "outputs": [],
   "source": [
    "from sklearn.neural_network import MLPClassifier"
   ]
  },
  {
   "cell_type": "code",
   "execution_count": 81,
   "id": "c94ef471",
   "metadata": {},
   "outputs": [],
   "source": [
    "modelAnn = MLPClassifier(solver='lbfgs', alpha=1e-5, hidden_layer_sizes=(5, 2), random_state=1)"
   ]
  },
  {
   "cell_type": "code",
   "execution_count": 84,
   "id": "04c64968",
   "metadata": {},
   "outputs": [
    {
     "data": {
      "text/plain": [
       "MLPClassifier(alpha=1e-05, hidden_layer_sizes=(5, 2), random_state=1,\n",
       "              solver='lbfgs')"
      ]
     },
     "execution_count": 84,
     "metadata": {},
     "output_type": "execute_result"
    }
   ],
   "source": [
    "modelAnn.fit(X_train, y_train)"
   ]
  },
  {
   "cell_type": "code",
   "execution_count": 86,
   "id": "155a7b5e",
   "metadata": {},
   "outputs": [],
   "source": [
    "predAnn = modelAnn.predict(X_test)"
   ]
  },
  {
   "cell_type": "code",
   "execution_count": 87,
   "id": "9b8654bf",
   "metadata": {},
   "outputs": [
    {
     "name": "stdout",
     "output_type": "stream",
     "text": [
      "Accuracy: 0.8907170923379175\n"
     ]
    }
   ],
   "source": [
    "# Model Accuracy, how often is the classifier correct?\n",
    "ann = metrics.accuracy_score(y_test, predAnn)\n",
    "print(\"Accuracy:\",ann)"
   ]
  },
  {
   "cell_type": "code",
   "execution_count": 88,
   "id": "79ea8302",
   "metadata": {},
   "outputs": [
    {
     "name": "stdout",
     "output_type": "stream",
     "text": [
      "              precision    recall  f1-score   support\n",
      "\n",
      "           0       0.89      1.00      0.94      7254\n",
      "           1       0.00      0.00      0.00       890\n",
      "\n",
      "    accuracy                           0.89      8144\n",
      "   macro avg       0.45      0.50      0.47      8144\n",
      "weighted avg       0.79      0.89      0.84      8144\n",
      "\n"
     ]
    },
    {
     "name": "stderr",
     "output_type": "stream",
     "text": [
      "E:\\Anaconda\\lib\\site-packages\\sklearn\\metrics\\_classification.py:1318: UndefinedMetricWarning: Precision and F-score are ill-defined and being set to 0.0 in labels with no predicted samples. Use `zero_division` parameter to control this behavior.\n",
      "  _warn_prf(average, modifier, msg_start, len(result))\n",
      "E:\\Anaconda\\lib\\site-packages\\sklearn\\metrics\\_classification.py:1318: UndefinedMetricWarning: Precision and F-score are ill-defined and being set to 0.0 in labels with no predicted samples. Use `zero_division` parameter to control this behavior.\n",
      "  _warn_prf(average, modifier, msg_start, len(result))\n",
      "E:\\Anaconda\\lib\\site-packages\\sklearn\\metrics\\_classification.py:1318: UndefinedMetricWarning: Precision and F-score are ill-defined and being set to 0.0 in labels with no predicted samples. Use `zero_division` parameter to control this behavior.\n",
      "  _warn_prf(average, modifier, msg_start, len(result))\n"
     ]
    },
    {
     "data": {
      "text/plain": [
       "<AxesSubplot:>"
      ]
     },
     "execution_count": 88,
     "metadata": {},
     "output_type": "execute_result"
    },
    {
     "data": {
      "image/png": "[encoded data removed]",
      "text/plain": [
       "<Figure size 432x288 with 2 Axes>"
      ]
     },
     "metadata": {
      "needs_background": "light"
     },
     "output_type": "display_data"
    }
   ],
   "source": [
    "print(classification_report(y_test,predAnn))\n",
    "\n",
    "confusion_knn=confusion_matrix(y_test,predAnn)\n",
    "sns.heatmap(confusion_knn,annot=True)"
   ]
  },
  {
   "cell_type": "markdown",
   "id": "87c07581",
   "metadata": {},
   "source": [
    "# plot model predict"
   ]
  },
  {
   "cell_type": "code",
   "execution_count": 89,
   "id": "f5df9ff1",
   "metadata": {},
   "outputs": [],
   "source": [
    "valuePredict = [decision, lg, svm, knn, ann]\n",
    "label = ['Decision Tree', 'Logistics regression', 'SVM', 'KNN', 'ANN']"
   ]
  },
  {
   "cell_type": "code",
   "execution_count": 90,
   "id": "6259147c",
   "metadata": {},
   "outputs": [
    {
     "data": {
      "image/png": "[encoded data removed]",
      "text/plain": [
       "<Figure size 1080x576 with 1 Axes>"
      ]
     },
     "metadata": {
      "needs_background": "light"
     },
     "output_type": "display_data"
    }
   ],
   "source": [
    "fig = plt.figure(figsize = (15,8))\n",
    "plt.title(\"Plot lines model predict\")\n",
    "sns.lineplot(x = label, y = valuePredict)\n",
    "plt.xlabel(\"value predict name model\")\n",
    "plt.ylabel(\"name model\")\n",
    "plt.show()"
   ]
  },
  {
   "cell_type": "markdown",
   "id": "8d7a93a7",
   "metadata": {},
   "source": [
    "### we can see. model logistics regression having accuracy the best."
   ]
  },
  {
   "cell_type": "code",
   "execution_count": null,
   "id": "7354904f",
   "metadata": {},
   "outputs": [],
   "source": []
  }
 ],
 "metadata": {
  "kernelspec": {
   "display_name": "Python 3 (ipykernel)",
   "language": "python",
   "name": "python3"
  },
  "language_info": {
   "codemirror_mode": {
    "name": "ipython",
    "version": 3
   },
   "file_extension": ".py",
   "mimetype": "text/x-python",
   "name": "python",
   "nbconvert_exporter": "python",
   "pygments_lexer": "ipython3",
   "version": "3.9.12"
  }
 },
 "nbformat": 4,
 "nbformat_minor": 5
}
